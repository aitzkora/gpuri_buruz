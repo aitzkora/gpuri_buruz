{
 "cells": [
  {
   "cell_type": "markdown",
   "id": "0feb3f64",
   "metadata": {
    "lines_to_next_cell": 2
   },
   "source": [
    "<center> <H1> Programmer en CUDA avec Julia </H1> \n",
    "<img src=\"logo.png\" width=\"200\"/>\n",
    "  Marc Fuentes : SED de l'INRIA de l'UPPA  \n",
    "</center>"
   ]
  },
  {
   "cell_type": "code",
   "execution_count": 1,
   "id": "0e7564ef",
   "metadata": {},
   "outputs": [],
   "source": [
    "using CUDA"
   ]
  },
  {
   "cell_type": "code",
   "execution_count": 2,
   "id": "37f70a56",
   "metadata": {},
   "outputs": [
    {
     "name": "stdout",
     "output_type": "stream",
     "text": [
      "CUDA toolkit 11.4.1, artifact installation\n",
      "CUDA driver 11.6.0\n",
      "NVIDIA driver 510.47.3\n",
      "\n",
      "Libraries: \n",
      "- CUBLAS: 11.5.4\n",
      "- CURAND: 10.2.5\n",
      "- CUFFT: 10.5.1\n",
      "- CUSOLVER: 11.2.0\n",
      "- CUSPARSE: 11.6.0\n",
      "- CUPTI: 14.0.0\n",
      "- NVML: 11.0.0+510.47.3\n",
      "- CUDNN: 8.20.2 (for CUDA 11.4.0)\n",
      "- CUTENSOR: 1.3.0 (for CUDA 11.2.0)\n",
      "\n",
      "Toolchain:\n",
      "- Julia: 1.7.0-beta3\n",
      "- LLVM: 12.0.0\n",
      "- PTX ISA support: 3.2, 4.0, 4.1, 4.2, 4.3, 5.0, 6.0, 6.1, 6.3, 6.4, 6.5, 7.0\n",
      "- Device capability support: sm_35, sm_37, sm_50, sm_52, sm_53, sm_60, sm_61, sm_62, sm_70, sm_72, sm_75, sm_80\n",
      "\n",
      "1 device:\n",
      "  0: Quadro T2000 with Max-Q Design (sm_75, 3.815 GiB / 4.000 GiB available)\n"
     ]
    }
   ],
   "source": [
    "CUDA.versioninfo()"
   ]
  },
  {
   "cell_type": "markdown",
   "id": "c205dfc2",
   "metadata": {},
   "source": [
    "# GPU : généralités \n",
    "- le GPU est un accélérateur possédant sa mémoire (DRAM) et un grand nombre de «fils d'exécution» (threads)\n",
    "<img src=\"archi_gpu.svg\" width=\"600px\" > \n",
    "- principe du GPU : remplacer un indice de boucle par un indice de «thread»"
   ]
  },
  {
   "cell_type": "markdown",
   "id": "8daa08f8",
   "metadata": {},
   "source": [
    "# Résolution de l'équation de laplace en 2D par Jacobi\n",
    "- On se propose de résoudre l'équation \n",
    "$ \\Delta u  = \\frac{\\partial^2 u}{\\partial x^2} + \\frac{\\partial^2 u}{\\partial y^2} = 0 $\n",
    "sur le carré $[0,1]^2$\n",
    "- Pour cela on discrétise le carré $[0,1]^2$ avec un pas de taille $h=1/(n+1)$"
   ]
  },
  {
   "cell_type": "code",
   "execution_count": 14,
   "id": "282102bb",
   "metadata": {},
   "outputs": [
    {
     "data": {
      "text/plain": [
       "init_sol! (generic function with 1 method)"
      ]
     },
     "execution_count": 14,
     "metadata": {},
     "output_type": "execute_result"
    }
   ],
   "source": [
    "function jacobi!(ap, a)\n",
    "    i = threadIdx().x + (blockIdx().x - 1) * blockDim().x\n",
    "    j = threadIdx().y  +(blockIdx().y - 1) * blockDim().y\n",
    "    if ((i >= 2) && (i <= (size(a,1)-1)) && (j >= 2) && (j <= (size(a,2)-1)))\n",
    "    ap[i,j] = 0.02f0 * (a[i-1,j]  + a[i+1,j]   + a[i,j-1]  + a[i,j+1])  +\n",
    "              0.05f0 * (a[i-1,j-1]+ a[i+1,j-1] + a[i-1,j+1] + a[i+1,j+1])  \n",
    "    end\n",
    "    return\n",
    "end\n",
    "\n",
    "function init_sol!(a)\n",
    "    a .= 0.0f0\n",
    "    m = size(a,1)\n",
    "    y₀ = sin.(π*[0:m-1;] ./ (m))\n",
    "    a[:,1] = y₀\n",
    "    a[:,end]= y₀ * exp(-π)\n",
    "end    "
   ]
  },
  {
   "cell_type": "code",
   "execution_count": 16,
   "id": "c3b4eda1",
   "metadata": {},
   "outputs": [],
   "source": [
    "const N = 4096\n",
    "a = CuArray{Float32}(undef, N, N);\n",
    "a₊ = similar(a)\n",
    "init_sol!(a);\n",
    "init_sol!(a₊);"
   ]
  },
  {
   "cell_type": "code",
   "execution_count": 17,
   "id": "eaee54ff",
   "metadata": {},
   "outputs": [
    {
     "name": "stdout",
     "output_type": "stream",
     "text": [
      "i =1 error = 0.0\n"
     ]
    }
   ],
   "source": [
    "nThreads = 1024\n",
    "nBlocks = N÷nThreads\n",
    "for i = 1:100\n",
    "   @cuda threads=nThreads blocks=nBlocks jacobi!(a₊,a)\n",
    "   error = maximum(abs.(a₊-a))   \n",
    "   println(\"i =\", i, \" error = \",error)\n",
    "   if (error<=1e-3) \n",
    "     break\n",
    "   end \n",
    "   a = a₊\n",
    "end"
   ]
  },
  {
   "cell_type": "code",
   "execution_count": null,
   "id": "28156c0d",
   "metadata": {},
   "outputs": [],
   "source": []
  }
 ],
 "metadata": {
  "jupytext": {
   "encoding": "# -*- coding: utf-8 -*-"
  },
  "kernelspec": {
   "display_name": "Julia 1.7",
   "language": "julia",
   "name": "julia-1.7"
  },
  "language_info": {
   "file_extension": ".jl",
   "mimetype": "application/julia",
   "name": "julia",
   "version": "1.7.0"
  }
 },
 "nbformat": 4,
 "nbformat_minor": 5
}
