{
 "cells": [
  {
   "cell_type": "markdown",
   "id": "0feb3f64",
   "metadata": {
    "lines_to_next_cell": 2
   },
   "source": [
    "<center> <H1> Programmer en CUDA avec Julia </H1> \n",
    "<img src=\"logo.png\" width=\"200\"/>\n",
    "  Marc Fuentes : SED de l'INRIA de l'UPPA  \n",
    "</center>"
   ]
  },
  {
   "cell_type": "markdown",
   "id": "11dee9c6",
   "metadata": {},
   "source": [
    "# Installation\n",
    "- sur un ordi perso, le gestionnaire de paquets de Julia `Pkg` va télécharger des artefacts\n",
    "```julia\n",
    "using Pkg\n",
    "Pkg.add(\"CUDA\")\n",
    "```\n",
    "- sur plafrim (pour ce TP) on peut utiliser sur GPU Pascal ou Volta (`salloc -C \"sirocco&p100\"`)\n",
    "```bash\n",
    "> module load language/julia/1.7.2\n",
    "> julia\n",
    "```\n",
    "- certaines variables peuvent influer sur la detection de l'installation cuda\n",
    " - `JULIA_CUDA_VERSION` \n",
    " - `JULIA_CUDA_BUILDBINARY=false`"
   ]
  },
  {
   "cell_type": "code",
   "execution_count": 1,
   "id": "a0f962f1",
   "metadata": {},
   "outputs": [
    {
     "name": "stdout",
     "output_type": "stream",
     "text": [
      "CUDA toolkit 11.4.1, artifact installation\n",
      "CUDA driver 11.6.0\n",
      "NVIDIA driver 510.54.0\n",
      "\n",
      "Libraries: \n",
      "- CUBLAS: 11.5.4\n",
      "- CURAND: 10.2.5\n",
      "- CUFFT: 10.5.1\n",
      "- CUSOLVER: 11.2.0\n",
      "- CUSPARSE: 11.6.0\n",
      "- CUPTI: 14.0.0\n",
      "- NVML: 11.0.0+510.54\n",
      "- CUDNN: 8.20.2 (for CUDA 11.4.0)\n",
      "- CUTENSOR: 1.3.0 (for CUDA 11.2.0)\n",
      "\n",
      "Toolchain:\n",
      "- Julia: 1.7.0-beta3\n",
      "- LLVM: 12.0.0\n",
      "- PTX ISA support: 3.2, 4.0, 4.1, 4.2, 4.3, 5.0, 6.0, 6.1, 6.3, 6.4, 6.5, 7.0\n",
      "- Device capability support: sm_35, sm_37, sm_50, sm_52, sm_53, sm_60, sm_61, sm_62, sm_70, sm_72, sm_75, sm_80\n",
      "\n",
      "1 device:\n",
      "  0: Quadro T2000 with Max-Q Design (sm_75, 3.815 GiB / 4.000 GiB available)\n"
     ]
    }
   ],
   "source": [
    "# verifier la config\n",
    "using CUDA\n",
    "CUDA.versioninfo()"
   ]
  },
  {
   "cell_type": "markdown",
   "id": "b1ee90ec",
   "metadata": {},
   "source": [
    "# Compilation et arrière-boutique GPU\n",
    "- l'interprète Julia integre un compilateur «à la volée» basé sur llvm\n",
    "- le paquet CUDA.jl est basé sur des paquets de plus bas-niveau pour compiler le code vers le GPU\n",
    "    <img src=\"arriere_boutiques.svg\" width=\"600px\"> "
   ]
  },
  {
   "cell_type": "markdown",
   "id": "c205dfc2",
   "metadata": {},
   "source": [
    "# GPU : généralités sur l'architecture\n",
    "- le GPU est un accélérateur possédant sa mémoire (DRAM) et un grand nombre de «fils d'exécution» (threads)\n",
    "<img src=\"archi_gpu.svg\" width=\"601px\" > \n",
    "- quelques principes à retenir\n",
    " - le parallèlisme GPU a pour cible beaucoup de tâches élémentaires identiques (grain fin)\n",
    " - limiter les transferts (ou les recouvrir par des calculs)\n",
    " - assurer la contiguïté des données en mémoires (coalescence) \n",
    " - donner suffisament de grain a moudre au GPU (calcul vectoriel) (occupation)\n",
    " - éviter les divergences de branches\n",
    "# Paradigme de programmation sur GPU : \n",
    " - remplacer un indice de boucle par un indice de «thread»\n",
    "```julia\n",
    "for i=...\n",
    "    a[i] = ...\n",
    "end\n",
    "``` \n",
    "devient ainsi\n",
    "```julia\n",
    "i = threadIdx().x + (blockIdx().x - 1) * blockDim().x  \n",
    "a[i] = ...\n",
    "```\n",
    "- illustration de numérotation 1D de fils d'exéction \n",
    " <img src=\"blocs.svg\" width=\"600px\"> "
   ]
  },
  {
   "cell_type": "markdown",
   "id": "7755e72c",
   "metadata": {},
   "source": [
    "# Parallélisme implicite\n",
    "- il suffit d'avoir recours a des abstractions parallèles agissant sur le conteneur `CuArray`"
   ]
  },
  {
   "cell_type": "code",
   "execution_count": 13,
   "id": "ff0913d8",
   "metadata": {},
   "outputs": [
    {
     "data": {
      "text/plain": [
       "BenchmarkTools.Trial: 10000 samples with 1 evaluation.\n",
       " Range \u001b[90m(\u001b[39m\u001b[36m\u001b[1mmin\u001b[22m\u001b[39m … \u001b[35mmax\u001b[39m\u001b[90m):  \u001b[39m\u001b[36m\u001b[1m66.270 μs\u001b[22m\u001b[39m … \u001b[35m 37.063 ms\u001b[39m  \u001b[90m┊\u001b[39m GC \u001b[90m(\u001b[39mmin … max\u001b[90m): \u001b[39m0.00% … 23.47%\n",
       " Time  \u001b[90m(\u001b[39m\u001b[34m\u001b[1mmedian\u001b[22m\u001b[39m\u001b[90m):     \u001b[39m\u001b[34m\u001b[1m73.595 μs               \u001b[22m\u001b[39m\u001b[90m┊\u001b[39m GC \u001b[90m(\u001b[39mmedian\u001b[90m):    \u001b[39m0.00%\n",
       " Time  \u001b[90m(\u001b[39m\u001b[32m\u001b[1mmean\u001b[22m\u001b[39m ± \u001b[32mσ\u001b[39m\u001b[90m):   \u001b[39m\u001b[32m\u001b[1m88.468 μs\u001b[22m\u001b[39m ± \u001b[32m712.287 μs\u001b[39m  \u001b[90m┊\u001b[39m GC \u001b[90m(\u001b[39mmean ± σ\u001b[90m):  \u001b[39m3.65% ±  0.45%\n",
       "\n",
       "  \u001b[39m \u001b[39m \u001b[39m \u001b[39m \u001b[39m \u001b[39m \u001b[39m \u001b[39m \u001b[39m \u001b[39m \u001b[39m \u001b[39m \u001b[39m \u001b[39m \u001b[39m \u001b[39m \u001b[39m \u001b[39m \u001b[39m \u001b[39m \u001b[39m▂\u001b[39m▅\u001b[39m█\u001b[39m█\u001b[39m▆\u001b[34m▇\u001b[39m\u001b[39m▄\u001b[39m▂\u001b[39m▁\u001b[39m \u001b[39m \u001b[39m \u001b[39m \u001b[39m \u001b[39m \u001b[39m \u001b[39m \u001b[39m \u001b[39m \u001b[39m \u001b[39m \u001b[39m \u001b[39m \u001b[39m \u001b[39m \u001b[39m \u001b[39m \u001b[39m \u001b[39m \u001b[39m \u001b[39m \u001b[39m \u001b[39m \u001b[39m \u001b[39m \u001b[39m \u001b[39m \u001b[39m \u001b[39m \u001b[39m \u001b[39m \u001b[39m \n",
       "  \u001b[39m▂\u001b[39m▂\u001b[39m▁\u001b[39m▂\u001b[39m▂\u001b[39m▂\u001b[39m▂\u001b[39m▂\u001b[39m▂\u001b[39m▂\u001b[39m▂\u001b[39m▂\u001b[39m▂\u001b[39m▃\u001b[39m▃\u001b[39m▃\u001b[39m▃\u001b[39m▄\u001b[39m▅\u001b[39m▇\u001b[39m█\u001b[39m█\u001b[39m█\u001b[39m█\u001b[39m█\u001b[34m█\u001b[39m\u001b[39m█\u001b[39m█\u001b[39m█\u001b[39m█\u001b[39m▇\u001b[39m▆\u001b[39m▆\u001b[39m▅\u001b[39m▅\u001b[39m▅\u001b[39m▄\u001b[39m▄\u001b[39m▄\u001b[39m▄\u001b[39m▃\u001b[39m▃\u001b[39m▃\u001b[39m▃\u001b[39m▃\u001b[39m▃\u001b[39m▃\u001b[39m▃\u001b[39m▂\u001b[39m▃\u001b[39m▂\u001b[39m▂\u001b[39m▂\u001b[39m▂\u001b[39m▂\u001b[39m▂\u001b[39m▂\u001b[39m▂\u001b[39m▂\u001b[39m▂\u001b[39m \u001b[39m▄\n",
       "  66.3 μs\u001b[90m         Histogram: frequency by time\u001b[39m         83.6 μs \u001b[0m\u001b[1m<\u001b[22m\n",
       "\n",
       " Memory estimate\u001b[90m: \u001b[39m\u001b[33m8.77 KiB\u001b[39m, allocs estimate\u001b[90m: \u001b[39m\u001b[33m203\u001b[39m."
      ]
     },
     "execution_count": 13,
     "metadata": {},
     "output_type": "execute_result"
    }
   ],
   "source": [
    "#version GPU\n",
    "using BenchmarkTools\n",
    "N = 2^10*32\n",
    "A = CuArray([1:N;])\n",
    "B = CuArray([0:N-1;])\n",
    "@benchmark z = reduce(+, A.^3+B.^2-2 * A .* B)"
   ]
  },
  {
   "cell_type": "code",
   "execution_count": 3,
   "id": "aac45403",
   "metadata": {},
   "outputs": [
    {
     "data": {
      "text/plain": [
       "BenchmarkTools.Trial: 10000 samples with 1 evaluation.\n",
       " Range \u001b[90m(\u001b[39m\u001b[36m\u001b[1mmin\u001b[22m\u001b[39m … \u001b[35mmax\u001b[39m\u001b[90m):  \u001b[39m\u001b[36m\u001b[1m130.180 μs\u001b[22m\u001b[39m … \u001b[35m  1.571 ms\u001b[39m  \u001b[90m┊\u001b[39m GC \u001b[90m(\u001b[39mmin … max\u001b[90m): \u001b[39m 0.00% … 82.57%\n",
       " Time  \u001b[90m(\u001b[39m\u001b[34m\u001b[1mmedian\u001b[22m\u001b[39m\u001b[90m):     \u001b[39m\u001b[34m\u001b[1m145.064 μs               \u001b[22m\u001b[39m\u001b[90m┊\u001b[39m GC \u001b[90m(\u001b[39mmedian\u001b[90m):    \u001b[39m 0.00%\n",
       " Time  \u001b[90m(\u001b[39m\u001b[32m\u001b[1mmean\u001b[22m\u001b[39m ± \u001b[32mσ\u001b[39m\u001b[90m):   \u001b[39m\u001b[32m\u001b[1m189.416 μs\u001b[22m\u001b[39m ± \u001b[32m224.349 μs\u001b[39m  \u001b[90m┊\u001b[39m GC \u001b[90m(\u001b[39mmean ± σ\u001b[90m):  \u001b[39m22.07% ± 16.14%\n",
       "\n",
       "  \u001b[39m█\u001b[34m▅\u001b[39m\u001b[39m▂\u001b[32m \u001b[39m\u001b[39m \u001b[39m \u001b[39m \u001b[39m \u001b[39m \u001b[39m \u001b[39m \u001b[39m \u001b[39m \u001b[39m \u001b[39m \u001b[39m \u001b[39m \u001b[39m \u001b[39m \u001b[39m \u001b[39m \u001b[39m \u001b[39m \u001b[39m \u001b[39m \u001b[39m \u001b[39m \u001b[39m \u001b[39m \u001b[39m \u001b[39m \u001b[39m \u001b[39m \u001b[39m \u001b[39m \u001b[39m \u001b[39m \u001b[39m \u001b[39m \u001b[39m \u001b[39m \u001b[39m \u001b[39m \u001b[39m \u001b[39m \u001b[39m \u001b[39m \u001b[39m \u001b[39m \u001b[39m \u001b[39m \u001b[39m \u001b[39m \u001b[39m \u001b[39m \u001b[39m \u001b[39m \u001b[39m \u001b[39m \u001b[39m▁\u001b[39m▂\u001b[39m \u001b[39m▁\n",
       "  \u001b[39m█\u001b[34m█\u001b[39m\u001b[39m█\u001b[32m▆\u001b[39m\u001b[39m▅\u001b[39m▄\u001b[39m▃\u001b[39m▁\u001b[39m▁\u001b[39m▁\u001b[39m▁\u001b[39m▁\u001b[39m▁\u001b[39m▁\u001b[39m▁\u001b[39m▁\u001b[39m▇\u001b[39m▄\u001b[39m▅\u001b[39m▃\u001b[39m▁\u001b[39m▁\u001b[39m▁\u001b[39m▁\u001b[39m▁\u001b[39m▁\u001b[39m▁\u001b[39m▁\u001b[39m▁\u001b[39m▁\u001b[39m▁\u001b[39m▁\u001b[39m▁\u001b[39m▁\u001b[39m▁\u001b[39m▁\u001b[39m▁\u001b[39m▁\u001b[39m▁\u001b[39m▁\u001b[39m▁\u001b[39m▁\u001b[39m▁\u001b[39m▁\u001b[39m▁\u001b[39m▁\u001b[39m▁\u001b[39m▁\u001b[39m▁\u001b[39m▁\u001b[39m▁\u001b[39m▁\u001b[39m▁\u001b[39m▁\u001b[39m▁\u001b[39m▁\u001b[39m▄\u001b[39m▅\u001b[39m▇\u001b[39m█\u001b[39m█\u001b[39m \u001b[39m█\n",
       "  130 μs\u001b[90m        \u001b[39m\u001b[90mHistogram: \u001b[39m\u001b[90m\u001b[1mlog(\u001b[22m\u001b[39m\u001b[90mfrequency\u001b[39m\u001b[90m\u001b[1m)\u001b[22m\u001b[39m\u001b[90m by time\u001b[39m       1.38 ms \u001b[0m\u001b[1m<\u001b[22m\n",
       "\n",
       " Memory estimate\u001b[90m: \u001b[39m\u001b[33m1.50 MiB\u001b[39m, allocs estimate\u001b[90m: \u001b[39m\u001b[33m23\u001b[39m."
      ]
     },
     "execution_count": 3,
     "metadata": {},
     "output_type": "execute_result"
    }
   ],
   "source": [
    "# version CPU\n",
    "A = [1:N;]\n",
    "B = [0:N-1;]\n",
    "@benchmark z = reduce(+, A.^2+B.^2-2 * A .* B)"
   ]
  },
  {
   "cell_type": "markdown",
   "id": "91aabc7b",
   "metadata": {},
   "source": [
    "Attention avec ce paradigme il faut eviter d'acceder individuellement au indices!"
   ]
  },
  {
   "cell_type": "code",
   "execution_count": 4,
   "id": "f8c5400e",
   "metadata": {},
   "outputs": [
    {
     "name": "stderr",
     "output_type": "stream",
     "text": [
      "┌ Warning: Performing scalar indexing on task Task (runnable) @0x00007f8cf56d8e70.\n",
      "│ Invocation of getindex resulted in scalar indexing of a GPU array.\n",
      "│ This is typically caused by calling an iterating implementation of a method.\n",
      "│ Such implementations *do not* execute on the GPU, but very slowly on the CPU,\n",
      "│ and therefore are only permitted from the REPL for prototyping purposes.\n",
      "│ If you did intend to index this array, annotate the caller with @allowscalar.\n",
      "└ @ GPUArrays /home/fux/.julia/packages/GPUArrays/UBzTm/src/host/indexing.jl:56\n"
     ]
    },
    {
     "data": {
      "text/plain": [
       "500500"
      ]
     },
     "execution_count": 4,
     "metadata": {},
     "output_type": "execute_result"
    }
   ],
   "source": [
    "A = CuArray([1:1000;])\n",
    "s = 0\n",
    "#CUDA.allowscalar(false) tweak that!\n",
    "for i =1:1000\n",
    "   s += A[i]\n",
    "end\n",
    "s"
   ]
  },
  {
   "cell_type": "markdown",
   "id": "223cec6b",
   "metadata": {},
   "source": [
    "# Parallèlisme explicite \n",
    "- on code et on appelle explicitement un «noyau» sur le GPU\n",
    "- noyau : routine s'executant sur le GPU que chacun des threads va executer «individuellement»\n",
    "- l'appel du noyau se fait au moyen de la macro `@cuda` en passant en paramètre le nombre de blocs et le nombre de threads/bloc \n",
    "```julia\n",
    "@cuda threads=nThreads blocks=nbBlocks ma_routine!(a,b)\n",
    "```\n",
    "- `nThreads` et `nbBlocks` peuvent etre des couples ou des triplets (grille 2D ou 3D)\n",
    "- la fonction noyau doit se terminer OBLIGATOIREMENT par un `return`"
   ]
  },
  {
   "cell_type": "code",
   "execution_count": 28,
   "id": "427e7668",
   "metadata": {},
   "outputs": [
    {
     "data": {
      "text/plain": [
       "scale_gpu! (generic function with 1 method)"
      ]
     },
     "execution_count": 28,
     "metadata": {},
     "output_type": "execute_result"
    }
   ],
   "source": [
    "# exemple noyau d'homothetie a ← α ⋅ a\n",
    "function scale_gpu!(a, α)\n",
    "  i = threadIdx().x + (blockIdx().x - 1) * blockDim().x\n",
    "  if (i <= size(a, 1))  \n",
    "    a[i] *= α \n",
    "  end      \n",
    "  return\n",
    "end    \n",
    "\n",
    "    "
   ]
  },
  {
   "cell_type": "code",
   "execution_count": 34,
   "id": "fc586679",
   "metadata": {},
   "outputs": [
    {
     "data": {
      "text/plain": [
       "0.0f0"
      ]
     },
     "execution_count": 34,
     "metadata": {},
     "output_type": "execute_result"
    }
   ],
   "source": [
    "# appel du noyau\n",
    "x= CUDA.ones(4096)\n",
    "@cuda threads=512 blocks=cld(4096, 512) scale_gpu!(x, 4.0f0)\n",
    "sum((x .- 4.0f0).^2)"
   ]
  },
  {
   "cell_type": "markdown",
   "id": "8daa08f8",
   "metadata": {},
   "source": [
    "\n",
    "# Résolution de l'équation de laplace en 2D par Jacobi\n",
    "- On se propose de résoudre l'équation \n",
    "$ \\Delta \\Phi  = \\frac{\\partial^2 \\Phi}{\\partial x^2} + \\frac{\\partial^2 \\Phi}{\\partial y^2} = 0 $\n",
    "sur le carré $[0,1]^2$\n",
    "- Pour cela on discrétise le carré $[0,1]^2$ avec un pas de taille $h=1/(n+1)$\n",
    "- on utilise le schéma d'ordre suivant (Ferziger,1981) qui approxime le laplacien par un opérateur $H$\n",
    "<img src=\"jacobi_molecule.svg\" width=\"200px\" > \n",
    "- En décomposant $H=D-F$, le schéma itératif de Jacobi donne\n",
    "$$\n",
    "\\Phi^{k+1} = D^{-1}F \\Phi^{k} = J \\Phi^{k}\n",
    "$$ \n",
    "avec \n",
    "$$\n",
    "J \\Phi = \\frac{1}{20} \\left[\\Phi_{i-1,j-1}+\\Phi_{i-1,j+1}+\\Phi_{i+1,j+1}+\\Phi_{i+1,j-1} \\right] +\n",
    "            \\frac{1}{5} \\left[\\Phi_{i,j-1}+\\Phi_{i,j+1}+\\Phi_{i+1,j}+\\Phi_{i-1,j} \\right]\n",
    "$$            \n"
   ]
  },
  {
   "cell_type": "code",
   "execution_count": 5,
   "id": "282102bb",
   "metadata": {},
   "outputs": [
    {
     "data": {
      "text/plain": [
       "init_sol! (generic function with 1 method)"
      ]
     },
     "execution_count": 5,
     "metadata": {},
     "output_type": "execute_result"
    }
   ],
   "source": [
    "function jacobi_gpu!(ap, a)\n",
    "    i = threadIdx().x + (blockIdx().x - 1) * blockDim().x\n",
    "    j = threadIdx().y + (blockIdx().y - 1) * blockDim().y\n",
    "    if ((i >= 2) && (i <= (size(a,1)-1)) && (j >= 2) && (j <= (size(a,2)-1)))\n",
    "      ap[i,j] = 0.2f0 * (a[i-1,j]  + a[i+1,j]   + a[i,j-1]  + a[i,j+1])  +\n",
    "                0.05f0 * (a[i-1,j-1]+ a[i+1,j-1] + a[i-1,j+1] + a[i+1,j+1])  \n",
    "    end\n",
    "    return\n",
    "end\n",
    "\n",
    "function init_sol!(a)\n",
    "    a .= 0.0f0\n",
    "    m = size(a,1)\n",
    "    y₀ = sin.(π*[0:m-1;] ./ (m))\n",
    "    a[:,1] = y₀\n",
    "    a[:,end]= y₀ * exp(-π)\n",
    "end    "
   ]
  },
  {
   "cell_type": "code",
   "execution_count": 6,
   "id": "c3b4eda1",
   "metadata": {},
   "outputs": [],
   "source": [
    "N = 4096\n",
    "a = CuArray{Float32}(undef, N, N)\n",
    "ap = similar(a);"
   ]
  },
  {
   "cell_type": "code",
   "execution_count": 7,
   "id": "eaee54ff",
   "metadata": {},
   "outputs": [
    {
     "name": "stdout",
     "output_type": "stream",
     "text": [
      "i =20 error = 0.011931241\n",
      "i =40 error = 0.0060647726\n",
      "i =60 error = 0.0040402412\n",
      "i =80 error = 0.003028661\n",
      "i =100 error = 0.0024201274\n",
      "i =20 error = 0.011931241\n",
      "i =40 error = 0.0060647726\n",
      "i =60 error = 0.0040402412\n",
      "i =80 error = 0.003028661\n",
      "i =100 error = 0.0024201274\n",
      "i =20 error = 0.011931241\n",
      "i =40 error = 0.0060647726\n",
      "i =60 error = 0.0040402412\n",
      "i =80 error = 0.003028661\n",
      "i =100 error = 0.0024201274\n",
      "i =20 error = 0.011931241\n",
      "i =40 error = 0.0060647726\n",
      "i =60 error = 0.0040402412\n",
      "i =80 error = 0.003028661\n",
      "i =100 error = 0.0024201274\n",
      "i =20 error = 0.011931241\n",
      "i =40 error = 0.0060647726\n",
      "i =60 error = 0.0040402412\n",
      "i =80 error = 0.003028661\n",
      "i =100 error = 0.0024201274\n",
      "i =20 error = 0.011931241\n",
      "i =40 error = 0.0060647726\n",
      "i =60 error = 0.0040402412\n",
      "i =80 error = 0.003028661\n",
      "i =100 error = 0.0024201274\n",
      "i =20 error = 0.011931241\n",
      "i =40 error = 0.0060647726\n",
      "i =60 error = 0.0040402412\n",
      "i =80 error = 0.003028661\n",
      "i =100 error = 0.0024201274\n",
      "i =20 error = 0.011931241\n",
      "i =40 error = 0.0060647726\n",
      "i =60 error = 0.0040402412\n",
      "i =80 error = 0.003028661\n",
      "i =100 error = 0.0024201274\n",
      "i =20 error = 0.011931241\n",
      "i =40 error = 0.0060647726\n",
      "i =60 error = 0.0040402412\n",
      "i =80 error = 0.003028661\n",
      "i =100 error = 0.0024201274\n",
      "i =20 error = 0.011931241\n",
      "i =40 error = 0.0060647726\n",
      "i =60 error = 0.0040402412\n",
      "i =80 error = 0.003028661\n",
      "i =100 error = 0.0024201274\n",
      "i =20 error = 0.011931241\n",
      "i =40 error = 0.0060647726\n",
      "i =60 error = 0.0040402412\n",
      "i =80 error = 0.003028661\n",
      "i =100 error = 0.0024201274\n",
      "i =20 error = 0.011931241\n",
      "i =40 error = 0.0060647726\n",
      "i =60 error = 0.0040402412\n",
      "i =80 error = 0.003028661\n",
      "i =100 error = 0.0024201274\n",
      "i =20 error = 0.011931241\n",
      "i =40 error = 0.0060647726\n",
      "i =60 error = 0.0040402412\n",
      "i =80 error = 0.003028661\n",
      "i =100 error = 0.0024201274\n",
      "i =20 error = 0.011931241\n",
      "i =40 error = 0.0060647726\n",
      "i =60 error = 0.0040402412\n",
      "i =80 error = 0.003028661\n",
      "i =100 error = 0.0024201274\n",
      "i =20 error = 0.011931241\n",
      "i =40 error = 0.0060647726\n",
      "i =60 error = 0.0040402412\n",
      "i =80 error = 0.003028661\n",
      "i =100 error = 0.0024201274\n",
      "i =20 error = 0.011931241\n",
      "i =40 error = 0.0060647726\n",
      "i =60 error = 0.0040402412\n",
      "i =80 error = 0.003028661\n",
      "i =100 error = 0.0024201274\n",
      "i =20 error = 0.011931241\n",
      "i =40 error = 0.0060647726\n",
      "i =60 error = 0.0040402412\n",
      "i =80 error = 0.003028661\n",
      "i =100 error = 0.0024201274\n",
      "i =20 error = 0.011931241\n",
      "i =40 error = 0.0060647726\n",
      "i =60 error = 0.0040402412\n",
      "i =80 error = 0.003028661\n",
      "i =100 error = 0.0024201274\n",
      "i =20 error = 0.011931241\n",
      "i =40 error = 0.0060647726\n",
      "i =60 error = 0.0040402412\n",
      "i =80 error = 0.003028661\n",
      "i =100 error = 0.0024201274\n"
     ]
    },
    {
     "data": {
      "text/plain": [
       "BenchmarkTools.Trial: 7 samples with 1 evaluation.\n",
       " Range \u001b[90m(\u001b[39m\u001b[36m\u001b[1mmin\u001b[22m\u001b[39m … \u001b[35mmax\u001b[39m\u001b[90m):  \u001b[39m\u001b[36m\u001b[1m736.331 ms\u001b[22m\u001b[39m … \u001b[35m753.372 ms\u001b[39m  \u001b[90m┊\u001b[39m GC \u001b[90m(\u001b[39mmin … max\u001b[90m): \u001b[39m1.70% … 1.77%\n",
       " Time  \u001b[90m(\u001b[39m\u001b[34m\u001b[1mmedian\u001b[22m\u001b[39m\u001b[90m):     \u001b[39m\u001b[34m\u001b[1m748.241 ms               \u001b[22m\u001b[39m\u001b[90m┊\u001b[39m GC \u001b[90m(\u001b[39mmedian\u001b[90m):    \u001b[39m1.99%\n",
       " Time  \u001b[90m(\u001b[39m\u001b[32m\u001b[1mmean\u001b[22m\u001b[39m ± \u001b[32mσ\u001b[39m\u001b[90m):   \u001b[39m\u001b[32m\u001b[1m747.584 ms\u001b[22m\u001b[39m ± \u001b[32m  5.823 ms\u001b[39m  \u001b[90m┊\u001b[39m GC \u001b[90m(\u001b[39mmean ± σ\u001b[90m):  \u001b[39m1.91% ± 0.22%\n",
       "\n",
       "  \u001b[39m█\u001b[39m \u001b[39m \u001b[39m \u001b[39m \u001b[39m \u001b[39m \u001b[39m \u001b[39m \u001b[39m \u001b[39m \u001b[39m \u001b[39m \u001b[39m \u001b[39m \u001b[39m \u001b[39m \u001b[39m \u001b[39m \u001b[39m \u001b[39m \u001b[39m \u001b[39m \u001b[39m \u001b[39m \u001b[39m \u001b[39m \u001b[39m█\u001b[39m \u001b[39m \u001b[39m \u001b[39m \u001b[39m \u001b[39m \u001b[39m \u001b[39m \u001b[39m \u001b[39m \u001b[39m \u001b[39m \u001b[32m \u001b[39m\u001b[39m█\u001b[34m█\u001b[39m\u001b[39m \u001b[39m \u001b[39m \u001b[39m \u001b[39m \u001b[39m \u001b[39m \u001b[39m \u001b[39m \u001b[39m \u001b[39m█\u001b[39m█\u001b[39m \u001b[39m \u001b[39m \u001b[39m \u001b[39m \u001b[39m█\u001b[39m \u001b[39m \n",
       "  \u001b[39m█\u001b[39m▁\u001b[39m▁\u001b[39m▁\u001b[39m▁\u001b[39m▁\u001b[39m▁\u001b[39m▁\u001b[39m▁\u001b[39m▁\u001b[39m▁\u001b[39m▁\u001b[39m▁\u001b[39m▁\u001b[39m▁\u001b[39m▁\u001b[39m▁\u001b[39m▁\u001b[39m▁\u001b[39m▁\u001b[39m▁\u001b[39m▁\u001b[39m▁\u001b[39m▁\u001b[39m▁\u001b[39m▁\u001b[39m▁\u001b[39m█\u001b[39m▁\u001b[39m▁\u001b[39m▁\u001b[39m▁\u001b[39m▁\u001b[39m▁\u001b[39m▁\u001b[39m▁\u001b[39m▁\u001b[39m▁\u001b[39m▁\u001b[39m▁\u001b[32m▁\u001b[39m\u001b[39m█\u001b[34m█\u001b[39m\u001b[39m▁\u001b[39m▁\u001b[39m▁\u001b[39m▁\u001b[39m▁\u001b[39m▁\u001b[39m▁\u001b[39m▁\u001b[39m▁\u001b[39m▁\u001b[39m█\u001b[39m█\u001b[39m▁\u001b[39m▁\u001b[39m▁\u001b[39m▁\u001b[39m▁\u001b[39m█\u001b[39m \u001b[39m▁\n",
       "  736 ms\u001b[90m           Histogram: frequency by time\u001b[39m          753 ms \u001b[0m\u001b[1m<\u001b[22m\n",
       "\n",
       " Memory estimate\u001b[90m: \u001b[39m\u001b[33m62.70 MiB\u001b[39m, allocs estimate\u001b[90m: \u001b[39m\u001b[33m2038193\u001b[39m."
      ]
     },
     "execution_count": 7,
     "metadata": {},
     "output_type": "execute_result"
    }
   ],
   "source": [
    "function chrono_gpu!(a, ap)\n",
    "  init_sol!(a);\n",
    "  init_sol!(ap);\n",
    "  nThreads = 32\n",
    "  for i = 1:100\n",
    "     @cuda threads=(nThreads,nThreads) blocks=(cld(N,nThreads), cld(N, nThreads)) jacobi_gpu!(ap,a)\n",
    "     error = maximum(abs.(ap-a))   \n",
    "     if (i % 20) == 0\n",
    "          println(\"i =\", i, \" error = \",error)\n",
    "     end \n",
    "     if (error<=1e-3) \n",
    "       break\n",
    "     end \n",
    "     a[:,:] = ap[:,:]\n",
    "  end\n",
    "end \n",
    "@benchmark chrono_gpu!($a, $ap)"
   ]
  },
  {
   "cell_type": "code",
   "execution_count": 8,
   "id": "2085dc72",
   "metadata": {},
   "outputs": [
    {
     "data": {
      "text/plain": [
       "jacobi_cpu! (generic function with 1 method)"
      ]
     },
     "execution_count": 8,
     "metadata": {},
     "output_type": "execute_result"
    }
   ],
   "source": [
    "function jacobi_cpu!(ap, a)\n",
    "    m,n = size(a)\n",
    "    for i=2:m-1\n",
    "        for j=2:n-1\n",
    "            ap[i,j] = 0.2f0 * (a[i-1,j]  + a[i+1,j]   + a[i,j-1]  + a[i,j+1])  +\n",
    "                      0.05f0 * (a[i-1,j-1]+ a[i+1,j-1] + a[i-1,j+1] + a[i+1,j+1])  \n",
    "        end \n",
    "    end\n",
    "    return\n",
    "end"
   ]
  },
  {
   "cell_type": "code",
   "execution_count": 9,
   "id": "d57c1deb",
   "metadata": {},
   "outputs": [
    {
     "name": "stdout",
     "output_type": "stream",
     "text": [
      "i =10 error = 0.023563981\n",
      "i =20 error = 0.011931226\n",
      "i =30 error = 0.008061439\n",
      "i =40 error = 0.0060647726\n",
      "i =50 error = 0.0048115253\n",
      "i =60 error = 0.0040402412\n",
      "i =70 error = 0.0034423172\n",
      "i =80 error = 0.003028661\n",
      "i =90 error = 0.0026850998\n",
      "i =100 error = 0.0024201572\n",
      "i =10 error = 0.023563981\n",
      "i =20 error = 0.011931226\n",
      "i =30 error = 0.008061439\n",
      "i =40 error = 0.0060647726\n",
      "i =50 error = 0.0048115253\n",
      "i =60 error = 0.0040402412\n",
      "i =70 error = 0.0034423172\n",
      "i =80 error = 0.003028661\n",
      "i =90 error = 0.0026850998\n",
      "i =100 error = 0.0024201572\n",
      "i =10 error = 0.023563981\n",
      "i =20 error = 0.011931226\n",
      "i =30 error = 0.008061439\n",
      "i =40 error = 0.0060647726\n",
      "i =50 error = 0.0048115253\n",
      "i =60 error = 0.0040402412\n",
      "i =70 error = 0.0034423172\n",
      "i =80 error = 0.003028661\n",
      "i =90 error = 0.0026850998\n",
      "i =100 error = 0.0024201572\n",
      "i =10 error = 0.023563981\n",
      "i =20 error = 0.011931226\n",
      "i =30 error = 0.008061439\n",
      "i =40 error = 0.0060647726\n",
      "i =50 error = 0.0048115253\n",
      "i =60 error = 0.0040402412\n",
      "i =70 error = 0.0034423172\n",
      "i =80 error = 0.003028661\n",
      "i =90 error = 0.0026850998\n",
      "i =100 error = 0.0024201572\n"
     ]
    },
    {
     "data": {
      "text/plain": [
       "BenchmarkTools.Trial: 1 sample with 1 evaluation.\n",
       " Single result which took \u001b[34m47.212 s\u001b[39m (2.12% GC) to evaluate,\n",
       " with a memory estimate of \u001b[33m18.75 GiB\u001b[39m, over \u001b[33m1219\u001b[39m allocations."
      ]
     },
     "execution_count": 9,
     "metadata": {},
     "output_type": "execute_result"
    }
   ],
   "source": [
    "b = Array{Float32}(undef, N,N)\n",
    "c = similar(b)\n",
    "\n",
    "function chrono_cpu!(b,c)\n",
    "  init_sol!(b)\n",
    "  init_sol!(c);\n",
    "  for i = 1:100\n",
    "     jacobi_cpu!(c,b)\n",
    "     error = maximum(abs.(c-b))   \n",
    "     if (i % 10) == 0\n",
    "          println(\"i =\", i, \" error = \",error)\n",
    "     end \n",
    "     if (error<=1e-3) \n",
    "       break\n",
    "     end \n",
    "     b[:,:] = c[:,:]\n",
    "  end\n",
    "end\n",
    "@benchmark chrono_cpu!($b, $c)"
   ]
  },
  {
   "cell_type": "markdown",
   "id": "dd907719",
   "metadata": {},
   "source": [
    "# avec mémoire partagée\n",
    " - On peut augmenter la localité des données en utilisant de la mémoire partagée\n",
    " "
   ]
  },
  {
   "cell_type": "code",
   "execution_count": 9,
   "id": "d2643962",
   "metadata": {},
   "outputs": [
    {
     "data": {
      "text/plain": [
       "jacobi_gpu_shared! (generic function with 1 method)"
      ]
     },
     "execution_count": 9,
     "metadata": {},
     "output_type": "execute_result"
    }
   ],
   "source": [
    "const BLOCK_X = 32\n",
    "const BLOCK_Y = 16\n",
    "function jacobi_gpu_shared!(a, ap)\n",
    "    tile = @cuStaticSharedMem(Float32, (BLOCK_X+2, BLOCK_Y+2))  \n",
    "    i = threadIdx().x + (blockIdx().x - 1) * blockDim().x\n",
    "    j = threadIdx().y + (blockIdx().y - 1) * blockDim().y\n",
    "    is = threadIdx().x\n",
    "    js = threadIdx().y\n",
    "    nx = size(a, 1) \n",
    "    ny = size(a, 2) \n",
    "    \n",
    "    if ( i > 1 && j > 1) \n",
    "      tile[is, js] = a[i-1, j-1]\n",
    "    end    \n",
    "    if ( i > 1 && j < ny && js >= BLOCK_Y-2)  \n",
    "      tile[is,  js+2] = a[i-1, j+1]\n",
    "    end \n",
    "    if ( j > 1 && i < nx && is >= BLOCK_X-2) \n",
    "      tile[is+2,  js] = a[i+1, j-1]\n",
    "    end    \n",
    "    if ( i < nx && j < ny && is >= BLOCK_X-2 && js >= BLOCK_Y - 2) \n",
    "      tile[is+2,js+2] = a[i+1, j+1]\n",
    "    end\n",
    "    \n",
    "    sync_threads()\n",
    "\n",
    "    if (i > 1 && i < nx && j > 1 && j < ny) \n",
    "      ap[i,j] = 0.2f0  * (tile[is, js+1]  + tile[is+2, js+1]  + \n",
    "                              tile[is+1, js]  + tile[is+1, js+2]) + \n",
    "                0.05f0 * (tile[is, js] + tile[is, js+2] + \n",
    "                              tile[is+2, js] + tile[is+2, js+2]) \n",
    "    end\n",
    "    return\n",
    "end"
   ]
  },
  {
   "cell_type": "code",
   "execution_count": 10,
   "id": "a1a17662",
   "metadata": {},
   "outputs": [
    {
     "name": "stdout",
     "output_type": "stream",
     "text": [
      "i =10 error = 0.023563966\n",
      "i =20 error = 0.011931241\n",
      "i =30 error = 0.008061439\n",
      "i =40 error = 0.0060647726\n",
      "i =50 error = 0.0048114955\n",
      "i =60 error = 0.0040402412\n",
      "i =70 error = 0.003442347\n",
      "i =80 error = 0.003028661\n",
      "i =90 error = 0.00268507\n",
      "i =100 error = 0.0024201274\n",
      "i =10 error = 0.023563966\n",
      "i =20 error = 0.011931241\n",
      "i =30 error = 0.008061439\n",
      "i =40 error = 0.0060647726\n",
      "i =50 error = 0.0048114955\n",
      "i =60 error = 0.0040402412\n",
      "i =70 error = 0.003442347\n",
      "i =80 error = 0.003028661\n",
      "i =90 error = 0.00268507\n",
      "i =100 error = 0.0024201274\n",
      "i =10 error = 0.023563966\n",
      "i =20 error = 0.011931241\n",
      "i =30 error = 0.008061439\n",
      "i =40 error = 0.0060647726\n",
      "i =50 error = 0.0048114955\n",
      "i =60 error = 0.0040402412\n",
      "i =70 error = 0.003442347\n",
      "i =80 error = 0.003028661\n",
      "i =90 error = 0.00268507\n",
      "i =100 error = 0.0024201274\n",
      "i =10 error = 0.023563966\n",
      "i =20 error = 0.011931241\n",
      "i =30 error = 0.008061439\n",
      "i =40 error = 0.0060647726\n",
      "i =50 error = 0.0048114955\n",
      "i =60 error = 0.0040402412\n",
      "i =70 error = 0.003442347\n",
      "i =80 error = 0.003028661\n",
      "i =90 error = 0.00268507\n",
      "i =100 error = 0.0024201274\n",
      "i =10 error = 0.023563966\n",
      "i =20 error = 0.011931241\n",
      "i =30 error = 0.008061439\n",
      "i =40 error = 0.0060647726\n",
      "i =50 error = 0.0048114955\n",
      "i =60 error = 0.0040402412\n",
      "i =70 error = 0.003442347\n",
      "i =80 error = 0.003028661\n",
      "i =90 error = 0.00268507\n",
      "i =100 error = 0.0024201274\n",
      "i =10 error = 0.023563966\n",
      "i =20 error = 0.011931241\n",
      "i =30 error = 0.008061439\n",
      "i =40 error = 0.0060647726\n",
      "i =50 error = 0.0048114955\n",
      "i =60 error = 0.0040402412\n",
      "i =70 error = 0.003442347\n",
      "i =80 error = 0.003028661\n",
      "i =90 error = 0.00268507\n",
      "i =100 error = 0.0024201274\n",
      "i =10 error = 0.023563966\n",
      "i =20 error = 0.011931241\n",
      "i =30 error = 0.008061439\n",
      "i =40 error = 0.0060647726\n",
      "i =50 error = 0.0048114955\n",
      "i =60 error = 0.0040402412\n",
      "i =70 error = 0.003442347\n",
      "i =80 error = 0.003028661\n",
      "i =90 error = 0.00268507\n",
      "i =100 error = 0.0024201274\n",
      "i =10 error = 0.023563966\n",
      "i =20 error = 0.011931241\n",
      "i =30 error = 0.008061439\n",
      "i =40 error = 0.0060647726\n",
      "i =50 error = 0.0048114955\n",
      "i =60 error = 0.0040402412\n",
      "i =70 error = 0.003442347\n",
      "i =80 error = 0.003028661\n",
      "i =90 error = 0.00268507\n",
      "i =100 error = 0.0024201274\n",
      "i =10 error = 0.023563966\n",
      "i =20 error = 0.011931241\n",
      "i =30 error = 0.008061439\n",
      "i =40 error = 0.0060647726\n",
      "i =50 error = 0.0048114955\n",
      "i =60 error = 0.0040402412\n",
      "i =70 error = 0.003442347\n",
      "i =80 error = 0.003028661\n",
      "i =90 error = 0.00268507\n",
      "i =100 error = 0.0024201274\n",
      "i =10 error = 0.023563966\n",
      "i =20 error = 0.011931241\n",
      "i =30 error = 0.008061439\n",
      "i =40 error = 0.0060647726\n",
      "i =50 error = 0.0048114955\n",
      "i =60 error = 0.0040402412\n",
      "i =70 error = 0.003442347\n",
      "i =80 error = 0.003028661\n",
      "i =90 error = 0.00268507\n",
      "i =100 error = 0.0024201274\n",
      "i =10 error = 0.023563966\n",
      "i =20 error = 0.011931241\n",
      "i =30 error = 0.008061439\n",
      "i =40 error = 0.0060647726\n",
      "i =50 error = 0.0048114955\n",
      "i =60 error = 0.0040402412\n",
      "i =70 error = 0.003442347\n",
      "i =80 error = 0.003028661\n",
      "i =90 error = 0.00268507\n",
      "i =100 error = 0.0024201274\n",
      "i =10 error = 0.023563966\n",
      "i =20 error = 0.011931241\n",
      "i =30 error = 0.008061439\n",
      "i =40 error = 0.0060647726\n",
      "i =50 error = 0.0048114955\n",
      "i =60 error = 0.0040402412\n",
      "i =70 error = 0.003442347\n",
      "i =80 error = 0.003028661\n",
      "i =90 error = 0.00268507\n",
      "i =100 error = 0.0024201274\n",
      "i =10 error = 0.023563966\n",
      "i =20 error = 0.011931241\n",
      "i =30 error = 0.008061439\n",
      "i =40 error = 0.0060647726\n",
      "i =50 error = 0.0048114955\n",
      "i =60 error = 0.0040402412\n",
      "i =70 error = 0.003442347\n",
      "i =80 error = 0.003028661\n",
      "i =90 error = 0.00268507\n",
      "i =100 error = 0.0024201274\n",
      "i =10 error = 0.023563966\n",
      "i =20 error = 0.011931241\n",
      "i =30 error = 0.008061439\n",
      "i =40 error = 0.0060647726\n",
      "i =50 error = 0.0048114955\n",
      "i =60 error = 0.0040402412\n",
      "i =70 error = 0.003442347\n",
      "i =80 error = 0.003028661\n",
      "i =90 error = 0.00268507\n",
      "i =100 error = 0.0024201274\n",
      "i =10 error = 0.023563966\n",
      "i =20 error = 0.011931241\n",
      "i =30 error = 0.008061439\n",
      "i =40 error = 0.0060647726\n",
      "i =50 error = 0.0048114955\n",
      "i =60 error = 0.0040402412\n",
      "i =70 error = 0.003442347\n",
      "i =80 error = 0.003028661\n",
      "i =90 error = 0.00268507\n",
      "i =100 error = 0.0024201274\n",
      "i =10 error = 0.023563966\n",
      "i =20 error = 0.011931241\n",
      "i =30 error = 0.008061439\n",
      "i =40 error = 0.0060647726\n",
      "i =50 error = 0.0048114955\n",
      "i =60 error = 0.0040402412\n",
      "i =70 error = 0.003442347\n",
      "i =80 error = 0.003028661\n",
      "i =90 error = 0.00268507\n",
      "i =100 error = 0.0024201274\n",
      "i =10 error = 0.023563966\n",
      "i =20 error = 0.011931241\n",
      "i =30 error = 0.008061439\n",
      "i =40 error = 0.0060647726\n",
      "i =50 error = 0.0048114955\n",
      "i =60 error = 0.0040402412\n",
      "i =70 error = 0.003442347\n",
      "i =80 error = 0.003028661\n",
      "i =90 error = 0.00268507\n",
      "i =100 error = 0.0024201274\n",
      "i =10 error = 0.023563966\n",
      "i =20 error = 0.011931241\n",
      "i =30 error = 0.008061439\n",
      "i =40 error = 0.0060647726\n",
      "i =50 error = 0.0048114955\n",
      "i =60 error = 0.0040402412\n",
      "i =70 error = 0.003442347\n",
      "i =80 error = 0.003028661\n",
      "i =90 error = 0.00268507\n",
      "i =100 error = 0.0024201274\n",
      "i =10 error = 0.023563966\n",
      "i =20 error = 0.011931241\n",
      "i =30 error = 0.008061439\n",
      "i =40 error = 0.0060647726\n",
      "i =50 error = 0.0048114955\n",
      "i =60 error = 0.0040402412\n",
      "i =70 error = 0.003442347\n",
      "i =80 error = 0.003028661\n",
      "i =90 error = 0.00268507\n",
      "i =100 error = 0.0024201274\n"
     ]
    },
    {
     "data": {
      "text/plain": [
       "BenchmarkTools.Trial: 7 samples with 1 evaluation.\n",
       " Range \u001b[90m(\u001b[39m\u001b[36m\u001b[1mmin\u001b[22m\u001b[39m … \u001b[35mmax\u001b[39m\u001b[90m):  \u001b[39m\u001b[36m\u001b[1m795.692 ms\u001b[22m\u001b[39m … \u001b[35m810.512 ms\u001b[39m  \u001b[90m┊\u001b[39m GC \u001b[90m(\u001b[39mmin … max\u001b[90m): \u001b[39m1.69% … 1.75%\n",
       " Time  \u001b[90m(\u001b[39m\u001b[34m\u001b[1mmedian\u001b[22m\u001b[39m\u001b[90m):     \u001b[39m\u001b[34m\u001b[1m805.359 ms               \u001b[22m\u001b[39m\u001b[90m┊\u001b[39m GC \u001b[90m(\u001b[39mmedian\u001b[90m):    \u001b[39m2.08%\n",
       " Time  \u001b[90m(\u001b[39m\u001b[32m\u001b[1mmean\u001b[22m\u001b[39m ± \u001b[32mσ\u001b[39m\u001b[90m):   \u001b[39m\u001b[32m\u001b[1m805.421 ms\u001b[22m\u001b[39m ± \u001b[32m  5.141 ms\u001b[39m  \u001b[90m┊\u001b[39m GC \u001b[90m(\u001b[39mmean ± σ\u001b[90m):  \u001b[39m1.94% ± 0.22%\n",
       "\n",
       "  \u001b[39m▁\u001b[39m \u001b[39m \u001b[39m \u001b[39m \u001b[39m \u001b[39m \u001b[39m \u001b[39m \u001b[39m \u001b[39m \u001b[39m \u001b[39m \u001b[39m \u001b[39m \u001b[39m \u001b[39m \u001b[39m \u001b[39m \u001b[39m \u001b[39m \u001b[39m \u001b[39m \u001b[39m \u001b[39m \u001b[39m \u001b[39m \u001b[39m \u001b[39m▁\u001b[39m \u001b[39m \u001b[39m \u001b[39m \u001b[39m \u001b[39m \u001b[39m \u001b[39m \u001b[39m \u001b[39m \u001b[39m█\u001b[34m \u001b[39m\u001b[39m \u001b[39m \u001b[39m \u001b[39m \u001b[39m \u001b[39m \u001b[39m \u001b[39m \u001b[39m \u001b[39m \u001b[39m \u001b[39m \u001b[39m \u001b[39m▁\u001b[39m \u001b[39m▁\u001b[39m \u001b[39m \u001b[39m \u001b[39m▁\u001b[39m \u001b[39m \n",
       "  \u001b[39m█\u001b[39m▁\u001b[39m▁\u001b[39m▁\u001b[39m▁\u001b[39m▁\u001b[39m▁\u001b[39m▁\u001b[39m▁\u001b[39m▁\u001b[39m▁\u001b[39m▁\u001b[39m▁\u001b[39m▁\u001b[39m▁\u001b[39m▁\u001b[39m▁\u001b[39m▁\u001b[39m▁\u001b[39m▁\u001b[39m▁\u001b[39m▁\u001b[39m▁\u001b[39m▁\u001b[39m▁\u001b[39m▁\u001b[39m▁\u001b[39m▁\u001b[39m█\u001b[39m▁\u001b[39m▁\u001b[39m▁\u001b[39m▁\u001b[39m▁\u001b[39m▁\u001b[39m▁\u001b[39m▁\u001b[39m▁\u001b[39m▁\u001b[39m█\u001b[34m▁\u001b[39m\u001b[39m▁\u001b[39m▁\u001b[39m▁\u001b[39m▁\u001b[39m▁\u001b[39m▁\u001b[39m▁\u001b[39m▁\u001b[39m▁\u001b[39m▁\u001b[39m▁\u001b[39m▁\u001b[39m▁\u001b[39m█\u001b[39m▁\u001b[39m█\u001b[39m▁\u001b[39m▁\u001b[39m▁\u001b[39m█\u001b[39m \u001b[39m▁\n",
       "  796 ms\u001b[90m           Histogram: frequency by time\u001b[39m          811 ms \u001b[0m\u001b[1m<\u001b[22m\n",
       "\n",
       " Memory estimate\u001b[90m: \u001b[39m\u001b[33m67.71 MiB\u001b[39m, allocs estimate\u001b[90m: \u001b[39m\u001b[33m2202467\u001b[39m."
      ]
     },
     "execution_count": 10,
     "metadata": {},
     "output_type": "execute_result"
    }
   ],
   "source": [
    "function chrono_shared!(a,ap)\n",
    "  init_sol!(a)\n",
    "  init_sol!(ap)\n",
    "  for i = 1:100\n",
    "     @cuda threads=(BLOCK_X,BLOCK_Y) blocks=(cld(N,BLOCK_X), cld(N, BLOCK_Y)) jacobi_gpu_shared!(a,ap)\n",
    "     error = maximum(abs.(a-ap))   \n",
    "     if (i % 10) == 0\n",
    "          println(\"i =\", i, \" error = \",error)\n",
    "     end \n",
    "     if (error<=1e-3) \n",
    "       break\n",
    "     end \n",
    "     a[:,:] = ap[:,:]\n",
    "  end\n",
    "end\n",
    "@benchmark chrono_shared!($a, $ap)"
   ]
  },
  {
   "cell_type": "code",
   "execution_count": null,
   "id": "8002db4e",
   "metadata": {},
   "outputs": [],
   "source": []
  }
 ],
 "metadata": {
  "jupytext": {
   "encoding": "# -*- coding: utf-8 -*-"
  },
  "kernelspec": {
   "display_name": "Julia 1.7",
   "language": "julia",
   "name": "julia-1.7"
  },
  "language_info": {
   "file_extension": ".jl",
   "mimetype": "application/julia",
   "name": "julia",
   "version": "1.7.0"
  }
 },
 "nbformat": 4,
 "nbformat_minor": 5
}
