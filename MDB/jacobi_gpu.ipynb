{
 "cells": [
  {
   "cell_type": "markdown",
   "id": "0feb3f64",
   "metadata": {
    "lines_to_next_cell": 2
   },
   "source": [
    "<center> <H1> Programmer en CUDA avec Julia </H1> \n",
    "<img src=\"logo.png\" width=\"200\"/>\n",
    "  Marc Fuentes : SED de l'INRIA de l'UPPA  \n",
    "</center>"
   ]
  },
  {
   "cell_type": "code",
   "execution_count": 4,
   "id": "0e7564ef",
   "metadata": {},
   "outputs": [
    {
     "name": "stdout",
     "output_type": "stream",
     "text": [
      "CUDA toolkit 11.4.1, artifact installation\n",
      "CUDA driver 11.6.0\n",
      "NVIDIA driver 510.47.3\n",
      "\n",
      "Libraries: \n",
      "- CUBLAS: 11.5.4\n",
      "- CURAND: 10.2.5\n",
      "- CUFFT: 10.5.1\n",
      "- CUSOLVER: 11.2.0\n",
      "- CUSPARSE: 11.6.0\n",
      "- CUPTI: 14.0.0\n",
      "- NVML: 11.0.0+510.47.3\n",
      "- CUDNN: 8.20.2 (for CUDA 11.4.0)\n",
      "- CUTENSOR: 1.3.0 (for CUDA 11.2.0)\n",
      "\n",
      "Toolchain:\n",
      "- Julia: 1.7.0-beta3\n",
      "- LLVM: 12.0.0\n",
      "- PTX ISA support: 3.2, 4.0, 4.1, 4.2, 4.3, 5.0, 6.0, 6.1, 6.3, 6.4, 6.5, 7.0\n",
      "- Device capability support: sm_35, sm_37, sm_50, sm_52, sm_53, sm_60, sm_61, sm_62, sm_70, sm_72, sm_75, sm_80\n",
      "\n",
      "1 device:\n",
      "  0: Quadro T2000 with Max-Q Design (sm_75, 3.815 GiB / 4.000 GiB available)\n"
     ]
    }
   ],
   "source": [
    "# dans l'interprete, verifié que CUDA marche bien -> aller a l'installation\n",
    "using CUDA\n",
    "CUDA.versioninfo()"
   ]
  },
  {
   "cell_type": "markdown",
   "id": "11dee9c6",
   "metadata": {},
   "source": [
    "# Installation\n",
    " - sur un laptop, le gestionnaire de paquet `Pkg` va télécharger des artefacts\n",
    "```julia\n",
    "using Pkg\n",
    "Pkg.add(\"CUDA\")\n",
    "```\n",
    " - sur plafrim (pour ce TP) a utiliser sur des GPU pascal ou Volta (`salloc -C \"sirocco&p100\"`)\n",
    "```bash\n",
    "> module load language/julia/1.7.2\n",
    "> julia\n",
    "```\n",
    " - certaines variables peuvent aider julia (`JULIA_CUDA_VERSION`) et  (`JULIA_CUDA_BUILDBINARY=false`)"
   ]
  },
  {
   "cell_type": "markdown",
   "id": "c205dfc2",
   "metadata": {},
   "source": [
    "# GPU : généralités sur l'architecture\n",
    "- le GPU est un accélérateur possédant sa mémoire (DRAM) et un grand nombre de «fils d'exécution» (threads)\n",
    "<img src=\"archi_gpu.svg\" width=\"600px\" > \n",
    "- 2 principes à rétenir\n",
    " - limiter les transferts (ou les recouvrir par des calculs)\n",
    " - donner suffisament de grain a moudre au GPU (calcul vectoriel)\n",
    "\n",
    "# Paradigme de programmation sur GPU : \n",
    " - remplacer un indice de boucle par un indice de «thread»\n",
    "```julia\n",
    "for i=...\n",
    "    a[i] = ...\n",
    "end\n",
    "``` \n",
    "devient ainsi\n",
    "```julia\n",
    "i = threadIdx().x + (blockIdx().x - 1) * blockDim().x  \n",
    "a[i] = ...\n",
    "```"
   ]
  },
  {
   "cell_type": "markdown",
   "id": "7755e72c",
   "metadata": {},
   "source": [
    "# utilisation transparente\n",
    "- il suffit d'avoir recours a des abstractions parallèles agissant sur le conteneneur `CuArray`"
   ]
  },
  {
   "cell_type": "code",
   "execution_count": 2,
   "id": "ff0913d8",
   "metadata": {},
   "outputs": [
    {
     "data": {
      "text/plain": [
       "BenchmarkTools.Trial: 10000 samples with 1 evaluation.\n",
       " Range \u001b[90m(\u001b[39m\u001b[36m\u001b[1mmin\u001b[22m\u001b[39m … \u001b[35mmax\u001b[39m\u001b[90m):  \u001b[39m\u001b[36m\u001b[1m66.041 μs\u001b[22m\u001b[39m … \u001b[35m 36.856 ms\u001b[39m  \u001b[90m┊\u001b[39m GC \u001b[90m(\u001b[39mmin … max\u001b[90m): \u001b[39m0.00% … 20.44%\n",
       " Time  \u001b[90m(\u001b[39m\u001b[34m\u001b[1mmedian\u001b[22m\u001b[39m\u001b[90m):     \u001b[39m\u001b[34m\u001b[1m70.660 μs               \u001b[22m\u001b[39m\u001b[90m┊\u001b[39m GC \u001b[90m(\u001b[39mmedian\u001b[90m):    \u001b[39m0.00%\n",
       " Time  \u001b[90m(\u001b[39m\u001b[32m\u001b[1mmean\u001b[22m\u001b[39m ± \u001b[32mσ\u001b[39m\u001b[90m):   \u001b[39m\u001b[32m\u001b[1m81.799 μs\u001b[22m\u001b[39m ± \u001b[32m612.030 μs\u001b[39m  \u001b[90m┊\u001b[39m GC \u001b[90m(\u001b[39mmean ± σ\u001b[90m):  \u001b[39m2.60% ±  0.35%\n",
       "\n",
       "  \u001b[39m \u001b[39m \u001b[39m \u001b[39m \u001b[39m \u001b[39m \u001b[39m \u001b[39m \u001b[39m \u001b[39m \u001b[39m \u001b[39m \u001b[39m \u001b[39m \u001b[39m \u001b[39m \u001b[39m▂\u001b[39m▄\u001b[39m▇\u001b[39m█\u001b[34m▇\u001b[39m\u001b[39m▆\u001b[39m▃\u001b[39m▁\u001b[39m \u001b[39m \u001b[39m \u001b[39m \u001b[39m \u001b[39m \u001b[39m \u001b[39m \u001b[39m \u001b[39m \u001b[39m \u001b[39m \u001b[39m \u001b[39m \u001b[39m \u001b[39m \u001b[39m \u001b[39m \u001b[39m \u001b[39m \u001b[39m \u001b[39m \u001b[39m \u001b[39m \u001b[39m \u001b[39m \u001b[39m \u001b[39m \u001b[39m \u001b[39m \u001b[39m \u001b[39m \u001b[39m \u001b[39m \u001b[39m \u001b[39m \u001b[39m \u001b[39m \n",
       "  \u001b[39m▂\u001b[39m▁\u001b[39m▂\u001b[39m▂\u001b[39m▂\u001b[39m▂\u001b[39m▂\u001b[39m▃\u001b[39m▃\u001b[39m▃\u001b[39m▄\u001b[39m▅\u001b[39m▅\u001b[39m▇\u001b[39m▇\u001b[39m█\u001b[39m█\u001b[39m█\u001b[39m█\u001b[39m█\u001b[34m█\u001b[39m\u001b[39m█\u001b[39m█\u001b[39m█\u001b[39m▇\u001b[39m▇\u001b[39m▆\u001b[39m▅\u001b[39m▅\u001b[39m▄\u001b[39m▄\u001b[39m▄\u001b[39m▄\u001b[39m▄\u001b[39m▄\u001b[39m▃\u001b[39m▃\u001b[39m▃\u001b[39m▃\u001b[39m▃\u001b[39m▃\u001b[39m▃\u001b[39m▂\u001b[39m▂\u001b[39m▂\u001b[39m▂\u001b[39m▂\u001b[39m▂\u001b[39m▂\u001b[39m▂\u001b[39m▂\u001b[39m▂\u001b[39m▂\u001b[39m▂\u001b[39m▂\u001b[39m▂\u001b[39m▂\u001b[39m▂\u001b[39m▂\u001b[39m▂\u001b[39m \u001b[39m▄\n",
       "  66 μs\u001b[90m           Histogram: frequency by time\u001b[39m         79.6 μs \u001b[0m\u001b[1m<\u001b[22m\n",
       "\n",
       " Memory estimate\u001b[90m: \u001b[39m\u001b[33m8.77 KiB\u001b[39m, allocs estimate\u001b[90m: \u001b[39m\u001b[33m203\u001b[39m."
      ]
     },
     "execution_count": 2,
     "metadata": {},
     "output_type": "execute_result"
    }
   ],
   "source": [
    "#version GPU\n",
    "using BenchmarkTools\n",
    "N = 2^10*32\n",
    "A = CuArray([1:N;])\n",
    "B = CuArray([0:N-1;])\n",
    "@benchmark z = reduce(+, A.^2+B.^2-2 * A .* B)"
   ]
  },
  {
   "cell_type": "code",
   "execution_count": 3,
   "id": "aac45403",
   "metadata": {},
   "outputs": [
    {
     "data": {
      "text/plain": [
       "BenchmarkTools.Trial: 10000 samples with 1 evaluation.\n",
       " Range \u001b[90m(\u001b[39m\u001b[36m\u001b[1mmin\u001b[22m\u001b[39m … \u001b[35mmax\u001b[39m\u001b[90m):  \u001b[39m\u001b[36m\u001b[1m130.140 μs\u001b[22m\u001b[39m … \u001b[35m  1.546 ms\u001b[39m  \u001b[90m┊\u001b[39m GC \u001b[90m(\u001b[39mmin … max\u001b[90m): \u001b[39m 0.00% … 86.67%\n",
       " Time  \u001b[90m(\u001b[39m\u001b[34m\u001b[1mmedian\u001b[22m\u001b[39m\u001b[90m):     \u001b[39m\u001b[34m\u001b[1m144.081 μs               \u001b[22m\u001b[39m\u001b[90m┊\u001b[39m GC \u001b[90m(\u001b[39mmedian\u001b[90m):    \u001b[39m 0.00%\n",
       " Time  \u001b[90m(\u001b[39m\u001b[32m\u001b[1mmean\u001b[22m\u001b[39m ± \u001b[32mσ\u001b[39m\u001b[90m):   \u001b[39m\u001b[32m\u001b[1m187.668 μs\u001b[22m\u001b[39m ± \u001b[32m222.271 μs\u001b[39m  \u001b[90m┊\u001b[39m GC \u001b[90m(\u001b[39mmean ± σ\u001b[90m):  \u001b[39m22.01% ± 16.10%\n",
       "\n",
       "  \u001b[39m█\u001b[34m▄\u001b[39m\u001b[39m \u001b[32m \u001b[39m\u001b[39m \u001b[39m \u001b[39m \u001b[39m \u001b[39m \u001b[39m \u001b[39m \u001b[39m \u001b[39m \u001b[39m \u001b[39m \u001b[39m \u001b[39m \u001b[39m \u001b[39m \u001b[39m \u001b[39m \u001b[39m \u001b[39m \u001b[39m \u001b[39m \u001b[39m \u001b[39m \u001b[39m \u001b[39m \u001b[39m \u001b[39m \u001b[39m \u001b[39m \u001b[39m \u001b[39m \u001b[39m \u001b[39m \u001b[39m \u001b[39m \u001b[39m \u001b[39m \u001b[39m \u001b[39m \u001b[39m \u001b[39m \u001b[39m \u001b[39m \u001b[39m \u001b[39m \u001b[39m \u001b[39m \u001b[39m \u001b[39m \u001b[39m \u001b[39m \u001b[39m \u001b[39m \u001b[39m \u001b[39m \u001b[39m \u001b[39m▂\u001b[39m \u001b[39m▁\n",
       "  \u001b[39m█\u001b[34m█\u001b[39m\u001b[39m█\u001b[32m▇\u001b[39m\u001b[39m▇\u001b[39m▅\u001b[39m▃\u001b[39m▁\u001b[39m▁\u001b[39m▁\u001b[39m▁\u001b[39m▁\u001b[39m▁\u001b[39m▁\u001b[39m▁\u001b[39m▁\u001b[39m▃\u001b[39m▇\u001b[39m▅\u001b[39m▃\u001b[39m▁\u001b[39m▁\u001b[39m▁\u001b[39m▁\u001b[39m▁\u001b[39m▁\u001b[39m▁\u001b[39m▁\u001b[39m▁\u001b[39m▁\u001b[39m▁\u001b[39m▁\u001b[39m▁\u001b[39m▁\u001b[39m▁\u001b[39m▁\u001b[39m▁\u001b[39m▁\u001b[39m▁\u001b[39m▁\u001b[39m▁\u001b[39m▁\u001b[39m▁\u001b[39m▁\u001b[39m▁\u001b[39m▁\u001b[39m▁\u001b[39m▁\u001b[39m▁\u001b[39m▁\u001b[39m▁\u001b[39m▁\u001b[39m▁\u001b[39m▁\u001b[39m▁\u001b[39m▁\u001b[39m▁\u001b[39m▅\u001b[39m▆\u001b[39m▇\u001b[39m█\u001b[39m \u001b[39m█\n",
       "  130 μs\u001b[90m        \u001b[39m\u001b[90mHistogram: \u001b[39m\u001b[90m\u001b[1mlog(\u001b[22m\u001b[39m\u001b[90mfrequency\u001b[39m\u001b[90m\u001b[1m)\u001b[22m\u001b[39m\u001b[90m by time\u001b[39m       1.37 ms \u001b[0m\u001b[1m<\u001b[22m\n",
       "\n",
       " Memory estimate\u001b[90m: \u001b[39m\u001b[33m1.50 MiB\u001b[39m, allocs estimate\u001b[90m: \u001b[39m\u001b[33m23\u001b[39m."
      ]
     },
     "execution_count": 3,
     "metadata": {},
     "output_type": "execute_result"
    }
   ],
   "source": [
    "# version CPU\n",
    "A = [1:N;]\n",
    "B = [0:N-1;]\n",
    "@benchmark z = reduce(+, A.^2+B.^2-2 * A .* B)"
   ]
  },
  {
   "cell_type": "markdown",
   "id": "91aabc7b",
   "metadata": {},
   "source": [
    "Attention avec ce paradigme il faut eviter d'acceder individuellement au indices!"
   ]
  },
  {
   "cell_type": "code",
   "execution_count": 4,
   "id": "f8c5400e",
   "metadata": {},
   "outputs": [
    {
     "name": "stderr",
     "output_type": "stream",
     "text": [
      "┌ Warning: Performing scalar indexing on task Task (runnable) @0x00007f7c2982fde0.\n",
      "│ Invocation of getindex resulted in scalar indexing of a GPU array.\n",
      "│ This is typically caused by calling an iterating implementation of a method.\n",
      "│ Such implementations *do not* execute on the GPU, but very slowly on the CPU,\n",
      "│ and therefore are only permitted from the REPL for prototyping purposes.\n",
      "│ If you did intend to index this array, annotate the caller with @allowscalar.\n",
      "└ @ GPUArrays /home/fux/.julia/packages/GPUArrays/UBzTm/src/host/indexing.jl:56\n"
     ]
    },
    {
     "data": {
      "text/plain": [
       "500500"
      ]
     },
     "execution_count": 4,
     "metadata": {},
     "output_type": "execute_result"
    }
   ],
   "source": [
    "A = CuArray([1:1000;])\n",
    "s = 0\n",
    "#CUDA.allowscalar(false) tweak that!\n",
    "for i =1:1000\n",
    "   s += A[i]\n",
    "end\n",
    "s"
   ]
  },
  {
   "cell_type": "markdown",
   "id": "8daa08f8",
   "metadata": {},
   "source": [
    "\n",
    "# Résolution de l'équation de laplace en 2D par Jacobi\n",
    "- On se propose de résoudre l'équation \n",
    "$ \\Delta u  = \\frac{\\partial^2 u}{\\partial x^2} + \\frac{\\partial^2 u}{\\partial y^2} = 0 $\n",
    "sur le carré $[0,1]^2$\n",
    "- Pour cela on discrétise le carré $[0,1]^2$ avec un pas de taille $h=1/(n+1)$"
   ]
  },
  {
   "cell_type": "code",
   "execution_count": 5,
   "id": "282102bb",
   "metadata": {},
   "outputs": [
    {
     "data": {
      "text/plain": [
       "init_sol! (generic function with 1 method)"
      ]
     },
     "execution_count": 5,
     "metadata": {},
     "output_type": "execute_result"
    }
   ],
   "source": [
    "function jacobi_gpu!(ap, a)\n",
    "    i = threadIdx().x + (blockIdx().x - 1) * blockDim().x\n",
    "    j = threadIdx().y + (blockIdx().y - 1) * blockDim().y\n",
    "    if ((i >= 2) && (i <= (size(a,1)-1)) && (j >= 2) && (j <= (size(a,2)-1)))\n",
    "      ap[i,j] = 0.2f0 * (a[i-1,j]  + a[i+1,j]   + a[i,j-1]  + a[i,j+1])  +\n",
    "                0.05f0 * (a[i-1,j-1]+ a[i+1,j-1] + a[i-1,j+1] + a[i+1,j+1])  \n",
    "    end\n",
    "    return\n",
    "end\n",
    "\n",
    "function init_sol!(a)\n",
    "    a .= 0.0f0\n",
    "    m = size(a,1)\n",
    "    y₀ = sin.(π*[0:m-1;] ./ (m))\n",
    "    a[:,1] = y₀\n",
    "    a[:,end]= y₀ * exp(-π)\n",
    "end    "
   ]
  },
  {
   "cell_type": "code",
   "execution_count": 9,
   "id": "c3b4eda1",
   "metadata": {},
   "outputs": [],
   "source": [
    "N = 4096\n",
    "a = CuArray{Float32}(undef, N, N);\n",
    "ap = similar(a)\n",
    "init_sol!(a);\n",
    "init_sol!(ap);"
   ]
  },
  {
   "cell_type": "code",
   "execution_count": 10,
   "id": "eaee54ff",
   "metadata": {},
   "outputs": [
    {
     "name": "stdout",
     "output_type": "stream",
     "text": [
      "i =20 error = 0.011931241\n",
      "i =40 error = 0.0060647726\n",
      "i =60 error = 0.0040402412\n",
      "i =80 error = 0.003028661\n",
      "i =100 error = 0.0024201274\n",
      "i =120 error = 0.0020114481\n",
      "i =140 error = 0.0017290413\n",
      "i =160 error = 0.0015127957\n",
      "i =180 error = 0.0013430417\n",
      "i =200 error = 0.0012105107\n",
      "i =220 error = 0.0010983944\n",
      "i =240 error = 0.0010086596\n"
     ]
    }
   ],
   "source": [
    "nThreads = 32\n",
    "for i = 1:300\n",
    "   @cuda threads=(nThreads,nThreads) blocks=(cld(N,nThreads), cld(N, nThreads)) jacobi_gpu!(ap,a)\n",
    "   error = maximum(abs.(ap-a))   \n",
    "   if (i % 20) == 0\n",
    "        println(\"i =\", i, \" error = \",error)\n",
    "   end \n",
    "   if (error<=1e-3) \n",
    "     break\n",
    "   end \n",
    "   a[:,:] = ap[:,:]\n",
    "end"
   ]
  },
  {
   "cell_type": "code",
   "execution_count": 11,
   "id": "2085dc72",
   "metadata": {},
   "outputs": [
    {
     "data": {
      "text/plain": [
       "jacobi_cpu! (generic function with 1 method)"
      ]
     },
     "execution_count": 11,
     "metadata": {},
     "output_type": "execute_result"
    }
   ],
   "source": [
    "function jacobi_cpu!(ap, a)\n",
    "    m,n = size(a)\n",
    "    for i=2:m-1\n",
    "        for j=2:n-1\n",
    "            ap[i,j] = 0.2f0 * (a[i-1,j]  + a[i+1,j]   + a[i,j-1]  + a[i,j+1])  +\n",
    "                      0.05f0 * (a[i-1,j-1]+ a[i+1,j-1] + a[i-1,j+1] + a[i+1,j+1])  \n",
    "        end \n",
    "    end\n",
    "    return\n",
    "end"
   ]
  },
  {
   "cell_type": "code",
   "execution_count": 12,
   "id": "d57c1deb",
   "metadata": {},
   "outputs": [
    {
     "name": "stdout",
     "output_type": "stream",
     "text": [
      "i =20 error = 0.011931226\n",
      "i =40 error = 0.0060647726\n",
      "i =60 error = 0.0040402412\n",
      "i =80 error = 0.003028661\n",
      "i =100 error = 0.0024201572\n",
      "i =120 error = 0.0020114481\n",
      "i =140 error = 0.0017290711\n",
      "i =160 error = 0.0015127957\n",
      "i =180 error = 0.0013430417\n",
      "i =200 error = 0.0012105107\n",
      "i =220 error = 0.0010983646\n",
      "i =240 error = 0.0010086894\n"
     ]
    }
   ],
   "source": [
    "b = Array{Float32}(undef, N,N)\n",
    "c = similar(b)\n",
    "init_sol!(b)\n",
    "init_sol!(c);\n",
    "\n",
    "for i = 1:300\n",
    "   jacobi_cpu!(c,b)\n",
    "   error = maximum(abs.(c-b))   \n",
    "   if (i % 20) == 0\n",
    "        println(\"i =\", i, \" error = \",error)\n",
    "   end \n",
    "   if (error<=1e-3) \n",
    "     break\n",
    "   end \n",
    "   b[:,:] = c[:,:]\n",
    "end"
   ]
  },
  {
   "cell_type": "code",
   "execution_count": null,
   "id": "e0b4eeed",
   "metadata": {},
   "outputs": [],
   "source": []
  }
 ],
 "metadata": {
  "jupytext": {
   "encoding": "# -*- coding: utf-8 -*-"
  },
  "kernelspec": {
   "display_name": "Julia 1.7",
   "language": "julia",
   "name": "julia-1.7"
  },
  "language_info": {
   "file_extension": ".jl",
   "mimetype": "application/julia",
   "name": "julia",
   "version": "1.7.0"
  }
 },
 "nbformat": 4,
 "nbformat_minor": 5
}
