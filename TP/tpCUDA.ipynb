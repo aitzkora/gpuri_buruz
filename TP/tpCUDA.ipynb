{
 "cells": [
  {
   "cell_type": "markdown",
   "id": "184c29b5",
   "metadata": {
    "slideshow": {
     "slide_type": "slide"
    }
   },
   "source": [
    "# connexion sur la plate-forme\n",
    "\n",
    "* premiere étape : \n",
    " * se connecter sur formation \n",
    "```bash\n",
    "ssh formation\n",
    "```\n",
    " * ajouter en locale (sur votre machine dans le `.ssh/config`\n",
    "```bash\n",
    "Host formation\n",
    "ForwardAgent yes\n",
    "ForwardX11 yes\n",
    "User cytec-marcf \n",
    "ProxyCommand ssh -T -q -o \"ForwardAgent Yes\" cytech-marcf@formation.plafrim.fr 'ssh-add -t 1 && nc plafrim 22'\n",
    "```\n",
    " * Pour editer vos fichiers `vim` ou `emacs -nw`\n",
    "```bash\n",
    "emacs -nw mon_fichier.txt\n",
    "```\n"
   ]
  },
  {
   "cell_type": "markdown",
   "id": "e33a2c16",
   "metadata": {
    "slideshow": {
     "slide_type": "slide"
    }
   },
   "source": [
    "# SLURM : mode interactif\n",
    "\n",
    "* noeuds et partitions disponibles\n",
    "\n",
    "```bash\n",
    "[fuentes@miriel045 ~]$ sinfo\n",
    "PARTITION AVAIL  TIMELIMIT  NODES  STATE NODELIST\n",
    "sirocco      up   10:00:00      3   idle sirocco[03-04,06]\n",
    "miriel       up 3-00:00:00      3  down* miriel[048,078,086]\n",
    "miriel       up 3-00:00:00     13   idle miriel[050-052,057,063-064,067,069,079,084-085,087-088]\n",
    "```\n",
    "* allocation et utilisation interactive\n",
    "\n",
    "```bash\n",
    "[fuentes@miriel045 ~]$ salloc -p sirocco -N 1 --time=0:30:0 -w sirocco03\n",
    "salloc: Granted job allocation 445861\n",
    "salloc: Waiting for resource configuration\n",
    "salloc: Nodes sirocco03 are ready for job\n",
    "[fuentes@miriel045 ~]$ ssh sirocco03\n",
    "```\n",
    "* voir ses tâches\n",
    "\n",
    "```bash\n",
    "[fuentes@miriel045 ~]$ squeue -u fuentes\n",
    "             JOBID PARTITION     NAME     USER ST       TIME  NODES NODELIST(REASON)\n",
    "            445861   sirocco     bash  fuentes  R       1:12      1 sirocco03\n",
    "```\n",
    "\n",
    "* supprimer une tâche\n",
    "\n",
    "```bash\n",
    "[fuentes@miriel045 ~]$ scancel 445861\n",
    "```\n"
   ]
  },
  {
   "cell_type": "markdown",
   "id": "6074d155",
   "metadata": {
    "slideshow": {
     "slide_type": "slide"
    }
   },
   "source": [
    "# Modules\n",
    "\n",
    "* des applications précompilées sont disponibles grâce au langage Tcl\n",
    "\n",
    "```bash\n",
    "[fuentes@miriel045 ~]$ module avail 2>&1 | grep compiler/cuda\n",
    "compiler/cuda/10.0           mpi/openmpi/4.0.1-intel\n",
    "compiler/cuda/10.2           mpi/openmpi/4.0.2\n",
    "compiler/cuda/11.2           mpi/openmpi/4.0.2-testing\n",
    "compiler/cuda/11.3           mpi/openmpi/4.0.3\n",
    "compiler/cuda/11.4           mpi/openmpi/4.0.3-mlx\n",
    "```\n",
    "\n",
    "* chargement d'un module \n",
    "\n",
    "```bash\n",
    "[fuentes@miriel045 ~]$ module load compiler/cuda/10.2\n",
    "[fuentes@miriel045 ~]$ module list\n",
    "Currently Loaded Modulefiles:\n",
    "  1) compiler/cuda/10.2\n",
    "[fuentes@miriel045 ~]$ which nvcc\n",
    "/usr/local/cuda-10.2/bin/nvcc\n",
    "```\n",
    "\n",
    "* virer tous les modules `module purge` \n",
    "\n",
    "* liste les modules charger `module list`\n",
    "\n",
    "* info sur un module `module show <mymodule>`\n",
    "\n",
    "\n",
    "* environnement de travail : rajouter dans le fichier ~/envNew\n",
    "\n",
    "```bash\n",
    "module purge\n",
    "module load compiler/cuda/11.4\n",
    "module load compiler/gcc/9.3.0\n",
    "module load build/cmake/3.21.3\n",
    "```\n",
    "* et rajouter `. ~/envNew` dans son .bashrc\n"
   ]
  },
  {
   "cell_type": "markdown",
   "id": "93acecb0",
   "metadata": {
    "slideshow": {
     "slide_type": "slide"
    }
   },
   "source": [
    "# SLURM : soumission de tâches par lots\n",
    "    \n",
    "* on peut lancer des tâches par lots (batch)\n",
    "    \n",
    "* on écrit un fichier `runOn3.slurm`, par exemple\n",
    "    \n",
    "```bash\n",
    "# #!/bin/sh \n",
    "#SBATCH --time=00:05:00\n",
    "#SBATCH -w sirocco03\n",
    "#SBATCH -p sirocco\n",
    "#SBATCH -N 1\n",
    ". ~/envNew\n",
    "$*\n",
    "```\n",
    "* que l'on lance ensuite par `sbatch runOn3 <executable>`\n",
    "\n",
    "```bash\n",
    "[fuentes@miriel045 cuda_expe]$ sbatch runOn3.slurm C/1D/structTest && squeue -u fuentes\n",
    "Submitted batch job 445863\n",
    "             JOBID PARTITION     NAME     USER ST       TIME  NODES NODELIST(REASON)\n",
    "            445863   sirocco runOn3.s  fuentes PD       0:00      1 (None)\n",
    "[fuentes@miriel045 cuda_expe]$ cat s\n",
    "slurm-445862.out  slurm-445863.out  \n",
    "[fuentes@miriel045 cuda_expe]$ cat slurm-445862.out \n",
    "data size (B) : 32\n",
    "blocksize (B) : 1024\n",
    "Good Kernel time : 0.0088ms\n",
    "Bad Kernel time : 0.0084ms\n",
    "```"
   ]
  },
  {
   "cell_type": "markdown",
   "id": "0da21510",
   "metadata": {
    "slideshow": {
     "slide_type": "slide"
    }
   },
   "source": [
    "# premier programme\n",
    "\n",
    "* écrire un programme «bonjour monde»\n",
    "\n",
    "```C\n",
    "#include <cstdio>\n",
    "__global__ void bonjour()\n",
    "{\n",
    "  printf(\"bonjour de la part de %d sur le GPU!\\n\", threadIdx.x);\n",
    "}\n",
    "int main()\n",
    "{\n",
    "  bonjour<<<1, 8>>>();\n",
    "  cudaDeviceSynchronize();\n",
    "  return 0;\n",
    "}\n",
    "```\n",
    "* le compiler et le lancer sur le GPU\n",
    "\n",
    "```bash\n",
    "[fuentes@sirocco03 ~]$ nvcc -arch=sm_35 egunon.cu  -Wno-deprecated-gpu-targets && ./a.out\n",
    "bonjour de la part de 0 sur le GPU!\n",
    "bonjour de la part de 1 sur le GPU!\n",
    "bonjour de la part de 2 sur le GPU!\n",
    "bonjour de la part de 3 sur le GPU!\n",
    "bonjour de la part de 4 sur le GPU!\n",
    "bonjour de la part de 5 sur le GPU!\n",
    "bonjour de la part de 6 sur le GPU!\n",
    "bonjour de la part de 7 sur le GPU!\n",
    "```\n"
   ]
  },
  {
   "cell_type": "markdown",
   "id": "f3707590",
   "metadata": {
    "slideshow": {
     "slide_type": "slide"
    }
   },
   "source": [
    "# introspection du GPU\n",
    "    \n",
    "* copier l'archive \n",
    "```bash\n",
    "# cp /home/fuentes/deviceQuery.tgz .\n",
    "```    \n",
    "    \n",
    "    \n",
    "* decompresser l'archive du programme `deviceQuery` sur la frontale\n",
    "```bash\n",
    "tar xvzf deviceQuery.tgz  && cd deviceQuery && make\n",
    "```\n",
    "\n",
    "* executer deviceQuery par lots ou en mode interactif    \n",
    "```bash\n",
    "./deviceQuery\n",
    "```"
   ]
  },
  {
   "cell_type": "markdown",
   "id": "76933bd0",
   "metadata": {
    "slideshow": {
     "slide_type": "slide"
    }
   },
   "source": [
    "# Exemple de noyau élémentaire : homothétie\n",
    "\n",
    "* coder le noyau homothetie\n",
    "\n",
    "* coder une version CPU \n",
    "\n",
    "* comparer les 2 versions et verifier avec un assert que le calcul sur GPU est correct\n",
    "\n",
    "* implanter une version retournée pour un pas de 2 du noyau\n",
    "\n",
    "* comparer les perfs avec les fonctions de l'API\n",
    "\n",
    "* comparer les perfs avec nvprof\n",
    "\n",
    "\n"
   ]
  },
  {
   "cell_type": "markdown",
   "id": "d3361428",
   "metadata": {
    "slideshow": {
     "slide_type": "slide"
    }
   },
   "source": [
    "# Array of Structs ou Struct of Arrays : c'est la question 😀\n",
    "\n",
    "* on va coder nos particules de 2 façons\n",
    "  * un tableau de structures\n",
    "```C\n",
    "struct AOS\n",
    "{\n",
    "  float x, y, z;\n",
    "  float dx, dy, dz;\n",
    "};\n",
    "```\n",
    "  * ou une structure de tableau\n",
    "```C\n",
    "struct SOA\n",
    "{\n",
    "  float * x, *y, *z;\n",
    "  float * dx, *dy, *dz;\n",
    "};\n",
    "```\n",
    "* l'algorithme va devoir faire $ x <- x + dx $, $y <- y + dy $, $z <- z + dz$ \n",
    "\n",
    "* coder une version utilisant AOS\n",
    "\n",
    "* coder une version utilisant SOA\n",
    "\n",
    "* s'assurer sur des petit cas qu'on calcule la meme chose.\n",
    "\n",
    "* comparer les perfs\n"
   ]
  },
  {
   "cell_type": "markdown",
   "id": "3bcb6abb",
   "metadata": {
    "slideshow": {
     "slide_type": "slide"
    }
   },
   "source": [
    "# Optimization \n",
    "## bande passante\n",
    "- copier et décompresser `BP.tgz` et compiler le code (attention au module cuda)\n",
    "```bash\n",
    "cp /home/fuentes/BP.tgz . && tar xvzf BP.tgz && cd bandePassante && make\n",
    "```\n",
    "- executer les 2 codes avec le profileur \n",
    "```bash\n",
    "nvprof ./pratiqueFM \n",
    "nvprof ./pratique\n",
    "```\n",
    "- relever les temps de chaque noyau et retrouver les résultats de BP réelle données en cours pour le K40M\n",
    "\n",
    "$$ \\frac{\\#R_{ker} + \\#W_{ker}}{10^9t} $$\n",
    " - Attention le nombre d'écriture et de lecture est en octets!\n",
    "\n",
    "- à comparer avec la bande passante max théorique\n",
    "```bash\n",
    "./theo\n",
    "```"
   ]
  },
  {
   "cell_type": "markdown",
   "id": "a5c7dc8c",
   "metadata": {
    "slideshow": {
     "slide_type": "subslide"
    }
   },
   "source": [
    "- décommenter l'option de compilation `--ptxas-options=-v` dans le makefile et recompiler\n",
    "```bash\n",
    "make 2>&1 | c++filt\n",
    "```\n",
    "- Que vous dit le compilo ?"
   ]
  },
  {
   "cell_type": "markdown",
   "id": "0a2cc2a2",
   "metadata": {
    "slideshow": {
     "slide_type": "slide"
    }
   },
   "source": [
    "## Transferts asynchrones\n",
    "### Mémoire verrouillée\n",
    "- copier et décompresser async.tgz\n",
    "```bash\n",
    "cd ..\n",
    "cp /home/fuentes/async.tgz . && tar xvzf async.tgz && cd async\n",
    "```\n",
    "- compiler\n",
    "```\n",
    "make \n",
    "```\n",
    "- profiler `./pinned.x` avec une trace\n",
    "```\n",
    "nvprof --print-gpu-trace ./pinned.x\n",
    "```\n",
    "- dans la sortie, pretez attention aux colonnes `SrcMemType`, `Troughut` et `Duration`\n",
    "\n",
    "- Qu'en deduisez vous ?"
   ]
  },
  {
   "cell_type": "markdown",
   "id": "f09588b8",
   "metadata": {
    "slideshow": {
     "slide_type": "subslide"
    }
   },
   "source": [
    "- optionnel (pour les courageux(ses)) : 💪\n",
    "    - essayer de changer l'enum `cudaHostAllocDefault` par `cudaHostAllocMapped`\n",
    "    - supprimer les transferts de l'hôte vers GPU (les 2 `cudaMemcpy`)\n",
    "    - ecrire un noyau bidon (scale ou increment)\n",
    "    - et verifier que la mémoire sur l'hôte est bien modifiée par le noyau"
   ]
  },
  {
   "cell_type": "markdown",
   "id": "5528b4f4",
   "metadata": {
    "slideshow": {
     "slide_type": "slide"
    }
   },
   "source": [
    "### transferts asynchrones\n",
    "- lancer le programme `exAsync` et verifier que la version asynchrone est plus courte\n",
    "```\n",
    "./exAsync\n",
    "```\n",
    "\n",
    "- profiler le programme `exAsync.x`\n",
    "```bash\n",
    "nvprof --print-gpu-trace ./exAsync.x\n",
    "```\n",
    "- reconnaissez vous les differents appels du noyau ? notamment l'appel asynchrone en 4 morceaux\n",
    "\n",
    "- changer le nombre de morceaux dans le sources et recompiler le programme, est plus rapide ou plus lent ?\n",
    "\n",
    "#### note pour un affichage graphique\n",
    "- Quand on dispose de `nvvp` en local (installer cuda sur sa machine). On peut extraire une trace \n",
    "```bash\n",
    "nvprof --output-profile async.prof ./exAsync.x\n",
    "```\n",
    "- rapatrier la trace avec un scp et l'ouvrir avec nvvp\n",
    "```\n",
    "nvvp async.prof\n",
    "```"
   ]
  },
  {
   "cell_type": "markdown",
   "id": "d04b93d7",
   "metadata": {
    "slideshow": {
     "slide_type": "slide"
    }
   },
   "source": [
    "## mémoire partagée : exemple de la transposition\n",
    "\n",
    "- copier et decompresser les sources de la tranpostion\n",
    "```bash\n",
    "cd ..\n",
    "cp /home/fuentes/transpose.tar . && tar xvf transpose.tar && cd tranposeSansSol\n",
    "```\n",
    "\n",
    "- compiler et faire tourner le programme\n",
    "```\n",
    "make\n",
    "./transpose.x data/vinhamala.pgm\n",
    "```\n",
    "- charger le module feh et voir l'image transposée\n",
    "```bash\n",
    "module load visu/feh\n",
    "feh --zoom 80 data/vinhamalaTrans.pgm\n",
    "```\n",
    "- écrire le noyau `transposeShared`, recompiler et l'executer\n",
    "```bash\n",
    "make\n",
    "./transpose.x data/vinhamala.pgm 1\n",
    "```\n",
    "- verifier que le temps est inférieure à celui du noyau naif\n",
    "- tester sans la synchronisation et voir que l'image produite est toute brouillée"
   ]
  },
  {
   "cell_type": "markdown",
   "id": "0dcd6622",
   "metadata": {
    "slideshow": {
     "slide_type": "subslide"
    }
   },
   "source": [
    "### bonus (noyau sans conflits de bancs mémoire)\n",
    "- copier le code du noyau `tranposeShared` dans `transposeNoConflicts` sans effacer la premier ligne avec `TILE_DIM+1`\n",
    "- recompiler et utiliser le noyau\n",
    "```bash\n",
    "make\n",
    "./transpose.x data/vinhamala.pgm 2\n",
    "```\n",
    "- verifier qu'il est encore plus rapide que `transposeShared`\n",
    "\n",
    "- on peut aussi tester avec l'image `data/che.pgm` qui est encore plus grande"
   ]
  }
 ],
 "metadata": {
  "celltoolbar": "Slideshow",
  "jupytext": {
   "encoding": "# -*- coding: utf-8 -*-"
  },
  "kernelspec": {
   "display_name": "Python 3 (ipykernel)",
   "language": "python",
   "name": "python3"
  },
  "language_info": {
   "codemirror_mode": {
    "name": "ipython",
    "version": 3
   },
   "file_extension": ".py",
   "mimetype": "text/x-python",
   "name": "python",
   "nbconvert_exporter": "python",
   "pygments_lexer": "ipython3",
   "version": "3.9.7"
  }
 },
 "nbformat": 4,
 "nbformat_minor": 5
}
