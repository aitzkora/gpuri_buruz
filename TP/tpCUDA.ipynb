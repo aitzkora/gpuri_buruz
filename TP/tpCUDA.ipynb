{
 "cells": [
  {
   "cell_type": "code",
   "execution_count": null,
   "id": "9acb0e2e",
   "metadata": {
    "lines_to_next_cell": 2
   },
   "outputs": [],
   "source": []
  },
  {
   "cell_type": "markdown",
   "id": "184c29b5",
   "metadata": {
    "slideshow": {
     "slide_type": "slide"
    }
   },
   "source": [
    "# premier programme\n",
    "\n",
    "* écrire un programme «bonjour monde»\n",
    "\n",
    "```C\n",
    "#include <cstdio>\n",
    "__global__ void bonjour()\n",
    "{\n",
    "  printf(\"bonjour de la part de %d sur le GPU!\\n\", threadIdx.x);\n",
    "}\n",
    "int main()\n",
    "{\n",
    "  bonjour<<<1, 8>>>();\n",
    "  cudaDeviceSynchronize();\n",
    "  return 0;\n",
    "}\n",
    "```\n",
    "* le compiler et le lancer sur le GPU\n",
    "\n",
    "```bash\n",
    "nvcc -arch=sm_35 egunon.cu  -Wno-deprecated-gpu-targets && ./a.out\n",
    "bonjour de la part de 0 sur le GPU!\n",
    "bonjour de la part de 1 sur le GPU!\n",
    "bonjour de la part de 2 sur le GPU!\n",
    "bonjour de la part de 3 sur le GPU!\n",
    "bonjour de la part de 4 sur le GPU!\n",
    "bonjour de la part de 5 sur le GPU!\n",
    "bonjour de la part de 6 sur le GPU!\n",
    "bonjour de la part de 7 sur le GPU!\n",
    "```\n"
   ]
  },
  {
   "cell_type": "markdown",
   "id": "e33a2c16",
   "metadata": {
    "slideshow": {
     "slide_type": "slide"
    }
   },
   "source": [
    "# introspection du GPU\n",
    "    \n",
    "* copier l'archive \n",
    "```bash\n",
    "# # cp /home/fuentes/deviceQuery.tgz .\n",
    "```    \n",
    "    \n",
    "    \n",
    "* decompresser l'archive du programme `deviceQuery` sur la frontale\n",
    "```bash\n",
    "tar xvzf deviceQuery.tgz  && cd deviceQuery && make\n",
    "```\n",
    "\n",
    "* executer deviceQuery par lots ou en mode interactif    \n",
    "```bash\n",
    "./deviceQuery\n",
    "```"
   ]
  },
  {
   "cell_type": "markdown",
   "id": "76933bd0",
   "metadata": {
    "slideshow": {
     "slide_type": "slide"
    }
   },
   "source": [
    "# Exemple de noyau élémentaire : homothétie\n",
    "\n",
    "* coder le noyau homothetie\n",
    "\n",
    "* coder une version CPU \n",
    "\n",
    "* comparer les 2 versions et verifier avec un assert que le calcul sur GPU est correct\n",
    "\n",
    "* implanter une version retournée pour un pas de 2 du noyau\n",
    "\n",
    "* comparer les perfs avec les fonctions de l'API\n",
    "\n",
    "* comparer les perfs avec nvprof\n",
    "\n",
    "\n"
   ]
  },
  {
   "cell_type": "markdown",
   "id": "d3361428",
   "metadata": {
    "slideshow": {
     "slide_type": "slide"
    }
   },
   "source": [
    "# Array of Structs ou Struct of Arrays : c'est la question 😀\n",
    "\n",
    "* on va coder nos particules de 2 façons\n",
    "  * un tableau de structures\n",
    "```C\n",
    "struct AOS\n",
    "{\n",
    "  float x, y, z;\n",
    "  float dx, dy, dz;\n",
    "};\n",
    "```\n",
    "  * ou une structure de tableau\n",
    "```C\n",
    "struct SOA\n",
    "{\n",
    "  float * x, *y, *z;\n",
    "  float * dx, *dy, *dz;\n",
    "};\n",
    "```\n",
    "* l'algorithme va devoir faire $ x <- x + dx $, $y <- y + dy $, $z <- z + dz$ \n",
    "\n",
    "* coder une version utilisant AOS\n",
    "\n",
    "* coder une version utilisant SOA\n",
    "\n",
    "* s'assurer sur des petit cas qu'on calcule la meme chose.\n",
    "\n",
    "* comparer les perfs\n"
   ]
  },
  {
   "cell_type": "markdown",
   "id": "3bcb6abb",
   "metadata": {
    "slideshow": {
     "slide_type": "slide"
    }
   },
   "source": [
    "# Optimization \n",
    "## bande passante\n",
    "- copier et décompresser `BP.tgz` et compiler le code (attention au module cuda)\n",
    "```bash\n",
    "# cp /home/fuentes/BP.tgz . && tar xvzf BP.tgz && cd bandePassante && make\n",
    "```\n",
    "- executer les 2 codes avec le profileur \n",
    "```bash\n",
    "nvprof ./pratiqueFM \n",
    "nvprof ./pratique\n",
    "```\n",
    "- relever les temps de chaque noyau et retrouver les résultats de BP réelle données en cours pour le K40M\n",
    "\n",
    "$$ \\frac{\\#R_{ker} + \\#W_{ker}}{10^9t} $$\n",
    " - Attention le nombre d'écriture et de lecture est en octets!\n",
    "\n",
    "- à comparer avec la bande passante max théorique\n",
    "```bash\n",
    "./theo\n",
    "```"
   ]
  },
  {
   "cell_type": "markdown",
   "id": "a5c7dc8c",
   "metadata": {
    "slideshow": {
     "slide_type": "subslide"
    }
   },
   "source": [
    "- décommenter l'option de compilation `--ptxas-options=-v` dans le makefile et recompiler\n",
    "```bash\n",
    "make 2>&1 | c++filt\n",
    "```\n",
    "- Que vous dit le compilo ?"
   ]
  },
  {
   "cell_type": "markdown",
   "id": "0a2cc2a2",
   "metadata": {
    "slideshow": {
     "slide_type": "slide"
    }
   },
   "source": [
    "## Transferts asynchrones\n",
    "### Mémoire verrouillée\n",
    "- copier et décompresser async.tgz\n",
    "```bash\n",
    "# cd ..\n",
    "# cp /home/fuentes/async.tgz . && tar xvzf async.tgz && cd async\n",
    "```\n",
    "- compiler\n",
    "```\n",
    "make \n",
    "```\n",
    "- profiler `./pinned.x` avec une trace\n",
    "```\n",
    "nvprof --print-gpu-trace ./pinned.x\n",
    "```\n",
    "- dans la sortie, pretez attention aux colonnes `SrcMemType`, `Troughut` et `Duration`\n",
    "\n",
    "- Qu'en deduisez vous ?"
   ]
  },
  {
   "cell_type": "markdown",
   "id": "f09588b8",
   "metadata": {
    "slideshow": {
     "slide_type": "subslide"
    }
   },
   "source": [
    "- optionnel (pour les courageux(ses)) : 💪\n",
    "    - essayer de changer l'enum `cudaHostAllocDefault` par `cudaHostAllocMapped`\n",
    "    - supprimer les transferts de l'hôte vers GPU (les 2 `cudaMemcpy`)\n",
    "    - écrire un noyau bidon (scale ou increment)\n",
    "    - et verifier que la mémoire sur l'hôte est bien modifiée par le noyau"
   ]
  },
  {
   "cell_type": "markdown",
   "id": "5528b4f4",
   "metadata": {
    "slideshow": {
     "slide_type": "slide"
    }
   },
   "source": [
    "### transferts asynchrones\n",
    "- lancer le programme `exAsync` et verifier que la version asynchrone est plus courte\n",
    "```\n",
    "./exAsync\n",
    "```\n",
    "\n",
    "- profiler le programme `exAsync.x`\n",
    "```bash\n",
    "nvprof --print-gpu-trace ./exAsync.x\n",
    "```\n",
    "- reconnaissez vous les differents appels du noyau ? notamment l'appel asynchrone en 4 morceaux\n",
    "\n",
    "- changer le nombre de morceaux dans le sources et recompiler le programme, est plus rapide ou plus lent ?\n",
    "\n",
    "#### note pour un affichage graphique\n",
    "- Quand on dispose de `nvvp` en local (installer cuda sur sa machine). On peut extraire une trace \n",
    "```bash\n",
    "nvprof --output-profile async.prof ./exAsync.x\n",
    "```\n",
    "- rapatrier la trace avec un scp et l'ouvrir avec nvvp\n",
    "```\n",
    "nvvp async.prof\n",
    "```"
   ]
  },
  {
   "cell_type": "markdown",
   "id": "d04b93d7",
   "metadata": {
    "slideshow": {
     "slide_type": "slide"
    }
   },
   "source": [
    "## mémoire partagée : exemple de la transposition\n",
    "\n",
    "- copier et decompresser les sources de la tranpostion\n",
    "```bash\n",
    "# cd ..\n",
    "# cp /home/fuentes/transpose.tar . && tar xvf transpose.tar && cd tranposeSansSol\n",
    "```\n",
    "\n",
    "- compiler et faire tourner le programme\n",
    "```\n",
    "make\n",
    "./transpose.x data/vinhamala.pgm\n",
    "```\n",
    "- charger le module feh et voir l'image transposée\n",
    "```bash\n",
    "module load visu/feh\n",
    "feh --zoom 80 data/vinhamalaTrans.pgm\n",
    "```\n",
    "- écrire le noyau `transposeShared`, recompiler et l'executer\n",
    "```bash\n",
    "make\n",
    "./transpose.x data/vinhamala.pgm 1\n",
    "```\n",
    "- verifier que le temps est inférieure à celui du noyau naif\n",
    "- tester sans la synchronisation et voir que l'image produite est toute brouillée"
   ]
  },
  {
   "cell_type": "markdown",
   "id": "0dcd6622",
   "metadata": {
    "slideshow": {
     "slide_type": "subslide"
    }
   },
   "source": [
    "### bonus (noyau sans conflits de bancs mémoire)\n",
    "- copier le code du noyau `tranposeShared` dans `transposeNoConflicts` sans effacer la premier ligne avec `TILE_DIM+1`\n",
    "- recompiler et utiliser le noyau\n",
    "```bash\n",
    "make\n",
    "./transpose.x data/vinhamala.pgm 2\n",
    "```\n",
    "- verifier qu'il est encore plus rapide que `transposeShared`\n",
    "\n",
    "- on peut aussi tester avec l'image `data/che.pgm` qui est encore plus grande"
   ]
  },
  {
   "cell_type": "markdown",
   "id": "a8ccd949",
   "metadata": {
    "slideshow": {
     "slide_type": "slide"
    }
   },
   "source": [
    "# calcul de π par réduction\n",
    "- copier et décompresser  et compiler les sources de la reduction \n",
    "```bash\n",
    "# cp /home/fuentes/reductions.tgz . && tar xvzf reductions.tgz && cd reductions && make\n",
    "```\n",
    "- tester le programme `monteCarlo.x` pour différentes valeurs de taille (premier argument)\n",
    "- écrire un noyau `partialSumDivergent` qui applique le schéma divergent vu en cours. On pourra deverminer avec 4 blocs de 16 threads avec `cuda-gdb`\n",
    "- écrire un noyau `partialSumDummy` où un unique thread calcule la somme\n",
    "- en utilisant l'astuce des pointeurs vu au TP précedent (transposition), écrire un programme qui chronomètre les 3 noyaux et retrouver les résultats vu en cours"
   ]
  },
  {
   "cell_type": "markdown",
   "id": "9704a3e4",
   "metadata": {
    "slideshow": {
     "slide_type": "slide"
    }
   },
   "source": [
    "# Équation de la chaleur en 3D\n",
    "- on veut résoudre l'équation de la chaleur en 3D\n",
    "$$\n",
    "\\frac{\\partial u}{\\partial t} = \\Delta u\n",
    "$$\n",
    "sur le cube $K = [0,1]^3$ avec \n",
    " - une condition aux limites $u_{\\partial K} = 1$ sur le bord \n",
    " - une condition initiale $u_{\\mathring{K}}(t=0) = 0$, $u_{\\partial K}(t=0) = 1$\n",
    "\n",
    "- on utilise le pochoir à 7 points suivant\n",
    "![pochoir](pochoir7.svg)\n",
    "\n",
    "- qui correspond à la discrétisation suivante \n",
    "$$\n",
    "\\frac{u_{i,j,k}^{n+1}-u_{i,j,k}^n}{\\delta t} = \n",
    "\\frac{u_{i+1,j,k}^n+u_{i-1,j,k}^n}{\\delta x^2}+\n",
    "\\frac{u_{i,j+1,k}^n+u_{i,j+1,k}^n}{\\delta y^2}+ \n",
    "\\frac{u_{i,j,k+1}^n+u_{i,j,k+1}^n}{\\delta z^2}\\\\\n",
    "-(\\frac{2}{\\delta x^2}+\\frac{2}{\\delta y^2}+\\frac{2}{\\delta z^2})u_{i,j,k}^n\n",
    "$$\n",
    "- copier et décompresser les sources de la reduction\n",
    "```bash\n",
    "# cp /home/fuentes/chaleur.tgz . && tar xvzf chaleur.tgz && cd chaleur\n",
    "```\n",
    "- compiler et executer la version CPU\n",
    "```bash\n",
    "make && ./heatCPU.x\n",
    "```\n",
    "- écrire une version GPU du noyau et la tester avec le programme `heatTest.x`\n",
    "\n",
    "- écrire une version GPU du programme principale avec sauvegarde de la solution dans des fichiers VTK\n"
   ]
  }
 ],
 "metadata": {
  "celltoolbar": "Slideshow",
  "jupytext": {
   "encoding": "# -*- coding: utf-8 -*-"
  },
  "kernelspec": {
   "display_name": "Python 3 (ipykernel)",
   "language": "python",
   "name": "python3"
  },
  "language_info": {
   "codemirror_mode": {
    "name": "ipython",
    "version": 3
   },
   "file_extension": ".py",
   "mimetype": "text/x-python",
   "name": "python",
   "nbconvert_exporter": "python",
   "pygments_lexer": "ipython3",
   "version": "3.9.9"
  }
 },
 "nbformat": 4,
 "nbformat_minor": 5
}
